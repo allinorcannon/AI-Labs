{
  "nbformat": 4,
  "nbformat_minor": 0,
  "metadata": {
    "kernelspec": {
      "display_name": "Python 3",
      "language": "python",
      "name": "python3"
    },
    "language_info": {
      "codemirror_mode": {
        "name": "ipython",
        "version": 3
      },
      "file_extension": ".py",
      "mimetype": "text/x-python",
      "name": "python",
      "nbconvert_exporter": "python",
      "pygments_lexer": "ipython3",
      "version": "3.7.3"
    },
    "colab": {
      "name": "lab2_148260_Dzialo.ipynb",
      "provenance": [],
      "collapsed_sections": []
    }
  },
  "cells": [
    {
      "cell_type": "markdown",
      "metadata": {
        "id": "a6TIJSDgJsJb"
      },
      "source": [
        "# Informed search - the A* algorithm"
      ]
    },
    {
      "cell_type": "markdown",
      "metadata": {
        "id": "7Xu09TElJsJd"
      },
      "source": [
        "Depth-first search and breadth-first search considered in the previous lesson are completely *blind* algorithms: they're only concerned whether the currently considered state is a goal state or not. They're unable to distinguish whether a state is easy or hard to reach, or whether it is near or far of the goal. This makes them very inefficient search algorithms. To allievate the issue, we introduce informed search algorithms. The information is given to an algorithm in two ways:\n",
        "\n",
        "1. By using an *action cost* function $c(s,a)$, which, given a state $s$ and an action $a$ available in this state, returns its cost as a non-negative number.\n",
        "2. By using a *heuristic* $h(s)$, which, given a state, estimates the lowest cost to reach a goal state from the given state.\n",
        "\n",
        "Given a sequence of actions $a_1, \\ldots, a_n$ and an initial state $s_1$, we can express the *total cost* of reaching the state $s_{n+1}$ by executing the sequence as:\n",
        "$$ c(s_1, a_1, \\ldots, a_{n-1}) = \\sum_{i=1}^n c(s_i, a_i) $$\n",
        "and the *expected cost* of the solution as the sum of the total cost and the estimate cost of reaching the goal from the state $s_{n+1}$\n",
        "$$ f(s_1, a_1, \\ldots, a_n) = c(s_1, a_1, \\ldots, a_n) + h(s_{n+1}) $$\n",
        "\n",
        "The heuristic function is a bit tricky, because we want it to have two properties:\n",
        "* *Admissibility*: It must never *overestimate* the true cost of reaching the goal. \n",
        "* *Consistency*: Let $s$ be a state such that $a$ is an available action in this state and $s'$ is the state reached by executing this action. The heuristic should fulfil triangle inequality, that is, the estimated cost to reach the goal from $s$ should be no greater than the cost of executing the action $a$ + the estimated cost of reaching the goal from the new state.\n",
        "$$ h(s) \\leq c(s, a) + h(s') $$\n",
        "\n",
        "One can prove that admissibility follows from consistency, but consistency is important only if there are multiple paths to reach the same state (i.e., we are searching in a graph, not in a tree). Otherwise, admissability is sufficient."
      ]
    },
    {
      "cell_type": "markdown",
      "metadata": {
        "id": "FILtFbXuJsJe"
      },
      "source": [
        "Lets extend the class `Problem` from the previous lesson with two new functions `action_cost` and `heuristic`, which correspond to the functions $c(s,a)$ and $h(s)$ described above."
      ]
    },
    {
      "cell_type": "code",
      "metadata": {
        "id": "hULms1TIJsJe"
      },
      "source": [
        "class Problem:\n",
        "    @property\n",
        "    def initial_state(self):\n",
        "        ...\n",
        "        \n",
        "    def available_actions(self, state):\n",
        "        ...        \n",
        "        \n",
        "    def do_action(self, state, action):\n",
        "        ...\n",
        "        return new_state\n",
        "    \n",
        "    def is_goal(self, state) -> bool:\n",
        "        ...\n",
        "        \n",
        "    def action_cost(self, state, action) -> float:\n",
        "        ...\n",
        "        \n",
        "    def heuristic(self, state, path) -> float:\n",
        "        ..."
      ],
      "execution_count": null,
      "outputs": []
    },
    {
      "cell_type": "markdown",
      "metadata": {
        "id": "AwJg6MwxJsJf"
      },
      "source": [
        "To make a concrete example, lets revisit the vacuum world. \n",
        "\n",
        "![](aima-images/fig2_2.png)\n",
        "\n",
        "Below, we assume a very simple model:\n",
        "* Any action costs 1. This corresponds to searching for the shortest plan.\n",
        "* The heuristic estimation is the number of fields which are still dirty. \n",
        "\n",
        "\n",
        "Lets consider the properties of the heuristic:\n",
        "* Is is admissible? The heuristic value is equal to the number of 'Suck' actions that are yet to be executed and ignores the spatial aspect (i.e., moving between the rooms), thus never overestimating.\n",
        "* Is it consistent? As a consequence of a single action the heuristic value can decrease by at most 1 (if the action happens to be 'Suck' and the room is dirty). The cost of any action is 1, so rewriting the triangle inequality we arrive at:\n",
        "$$ h(s) \\leq c(s, a) + h(s') = \\begin{cases} 1 + (h(s)-1) & a=\\text{'Suck' and the room was dirty} \\\\ 1 + h(s) & \\text{otherwise} \\end{cases} $$\n",
        "* Is it the best we could have? By no means! We could include the spatial aspect."
      ]
    },
    {
      "cell_type": "code",
      "metadata": {
        "id": "PWGCZiERJsJg"
      },
      "source": [
        "import copy\n",
        "class VacuumProblem(Problem):\n",
        "    @property\n",
        "    def initial_state(self):\n",
        "        return (0, (True, True))\n",
        "    \n",
        "    def available_actions(self, state):\n",
        "        return [\"Left\", \"Suck\", \"Right\"]\n",
        "        \n",
        "    def do_action(self, state, action):\n",
        "        robot, dirty = copy.deepcopy(state)\n",
        "        if action == \"Left\":\n",
        "            return (max(robot-1, 0), dirty)\n",
        "        elif action == \"Suck\":\n",
        "            new_dirty = list(dirty)\n",
        "            new_dirty[robot] = False\n",
        "            return (robot, tuple(new_dirty))\n",
        "        elif action == \"Right\":\n",
        "            return (min(robot+1, len(dirty)-1), dirty)        \n",
        "        raise Exception('Invalid action')\n",
        "\n",
        "    def is_goal(self, state) -> bool:\n",
        "        return not any(state[1])\n",
        "    \n",
        "    def action_cost(self, state, action):\n",
        "        return 1\n",
        "    \n",
        "    def heuristic(self, state, path):\n",
        "        return sum(state[1]) + len(path)"
      ],
      "execution_count": null,
      "outputs": []
    },
    {
      "cell_type": "markdown",
      "metadata": {
        "id": "i0u_ln6mJsJh"
      },
      "source": [
        "## Task 1: Implement the A* algorithm\n",
        "\n",
        "To implement the A* algorithm you must have a priority queue. Luckily, Python comes with one, so you don't need to implement it by yourself. Then, the algorithm is very simple: \n",
        "1. Start with a queue containing a single item - the initial state\n",
        "2. Repeat until the queue is not empty:\n",
        "  1. Pick an item with the lowest expected cost\n",
        "  2. If this is the goal, return the sequence of actions necessary to reach this state\n",
        "  3. Otherwise, for each available action, create a new entry in the queue corresponding to the state reached after executing the action.\n",
        "  \n",
        "Guard the algorithm against infinite loops: if you already visited a state, you don't need to visit it again (if your heuristic is consistent).\n",
        "\n",
        "In the cell below implement the algorithm in a similar manner as the BFS and DFS in the previous lesson: the sole argument is an object of the class Problem and the function should return a list of actions to achieve a goal state from the initial state.\n",
        "If it is impossible to reach the goal, return `None`.\n",
        "Count the number of states visited during the search and print in out before returning from the function, it will be useful later on to compare different heuristics."
      ]
    },
    {
      "cell_type": "code",
      "metadata": {
        "id": "qFCLF3q5edly"
      },
      "source": [
        "import heapq\n",
        "import copy\n",
        "def astar(problem: Problem):\n",
        "    if problem.is_goal(problem.initial_state):\n",
        "        return(problem.initial_state)\n",
        "    root = (problem.heuristic(problem.initial_state, []), problem.initial_state, [])\n",
        "    frontier = [root]\n",
        "    heapq.heapify(frontier)\n",
        "    explored = []\n",
        "    states = 0\n",
        "    while frontier:\n",
        "        node = heapq.heappop(frontier)\n",
        "        states += 1\n",
        "        if problem.is_goal(node[1]):\n",
        "            print('Number of states visited: ', states)\n",
        "            return node\n",
        "        explored.append(node[1])\n",
        "        for action in problem.available_actions(node[1]):\n",
        "            path = copy.deepcopy(node[2])\n",
        "            path.append(action)\n",
        "            child = (problem.heuristic(problem.do_action(node[1], action), path), problem.do_action(node[1], action) , path)\n",
        "            if child[1] not in explored and child not in frontier:\n",
        "                heapq.heappush(frontier,child)\n",
        "            elif child in frontier:\n",
        "                ix = frontier.index(child)\n",
        "                incumbent = frontier[ix]\n",
        "                if problem.heuristic(child[1], child[2]) < problem.heuristic(incumbent[1], incumbent[2]):\n",
        "                    del frontier[ix]\n",
        "                    heapq.heappush(frontier,child)\n",
        "    return None"
      ],
      "execution_count": null,
      "outputs": []
    },
    {
      "cell_type": "markdown",
      "metadata": {
        "id": "zoEUPfPkJsJh"
      },
      "source": [
        "Now lets test your code in the vacuum world!"
      ]
    },
    {
      "cell_type": "code",
      "metadata": {
        "colab": {
          "base_uri": "https://localhost:8080/"
        },
        "id": "s5o5lV-UJsJi",
        "outputId": "d941e142-627c-4222-d411-f1e803b97130"
      },
      "source": [
        "astar(VacuumProblem())"
      ],
      "execution_count": null,
      "outputs": [
        {
          "output_type": "stream",
          "name": "stdout",
          "text": [
            "Number of states visited:  4\n"
          ]
        },
        {
          "output_type": "execute_result",
          "data": {
            "text/plain": [
              "(3, (1, (False, False)), ['Suck', 'Right', 'Suck'])"
            ]
          },
          "metadata": {},
          "execution_count": 143
        }
      ]
    },
    {
      "cell_type": "markdown",
      "metadata": {
        "id": "YyHt10kjJsJi"
      },
      "source": [
        "## Task 2: Variants of the vacuum world\n",
        "\n",
        "Now lets consider a different take on the vacuum world in which the heuristic is not admissible and increases as the number of dirty fields decreases."
      ]
    },
    {
      "cell_type": "code",
      "metadata": {
        "id": "OoQuhcBeJsJi",
        "colab": {
          "base_uri": "https://localhost:8080/"
        },
        "outputId": "fe91c1a7-7bb0-49cc-9168-11f5507397d9"
      },
      "source": [
        "class VacuumProblem1(VacuumProblem):\n",
        "    def action_cost(self, state, action):\n",
        "        return 1\n",
        "    \n",
        "    def heuristic(self, state, path):\n",
        "        return len(state[1]) - sum(state[1]) + len(path)\n",
        "    \n",
        "astar(VacuumProblem1())"
      ],
      "execution_count": null,
      "outputs": [
        {
          "output_type": "stream",
          "name": "stdout",
          "text": [
            "Number of states visited:  7\n"
          ]
        },
        {
          "output_type": "execute_result",
          "data": {
            "text/plain": [
              "(5, (1, (False, False)), ['Suck', 'Right', 'Suck'])"
            ]
          },
          "metadata": {},
          "execution_count": 144
        }
      ]
    },
    {
      "cell_type": "markdown",
      "metadata": {
        "id": "8lvGluvsJsJi"
      },
      "source": [
        "And another in which heuristic grossly overestimates the cost."
      ]
    },
    {
      "cell_type": "code",
      "metadata": {
        "id": "x53O12DFJsJi",
        "colab": {
          "base_uri": "https://localhost:8080/"
        },
        "outputId": "ee115c45-0f59-498d-f13b-eaa1f535b2b3"
      },
      "source": [
        "class VacuumProblem2(VacuumProblem):\n",
        "    def action_cost(self, state, action):\n",
        "        return 1\n",
        "    \n",
        "    def heuristic(self, state, path):\n",
        "        return 10 * sum(state[1]) + len(path)\n",
        "    \n",
        "astar(VacuumProblem2())"
      ],
      "execution_count": null,
      "outputs": [
        {
          "output_type": "stream",
          "name": "stdout",
          "text": [
            "Number of states visited:  4\n"
          ]
        },
        {
          "output_type": "execute_result",
          "data": {
            "text/plain": [
              "(3, (1, (False, False)), ['Suck', 'Right', 'Suck'])"
            ]
          },
          "metadata": {},
          "execution_count": 145
        }
      ]
    },
    {
      "cell_type": "markdown",
      "metadata": {
        "id": "Sefr73toJsJi"
      },
      "source": [
        "**Which of the three heuristic functions (`VacuumProblem`, `VacuumProblem1`, `VacuumProblem2`) is the best? Is it the expected answer given the properties of the heuristics? If not, explain why an unorthodox approach works better.**"
      ]
    },
    {
      "cell_type": "markdown",
      "metadata": {
        "id": "Wkz6rjJwJsJj"
      },
      "source": [
        "I'd say that the best heuristic out of those 3 is the first one, even though for this particular initial state it gives the same value as the first one. One would assume that putting high pressure on looking for states where the vacuum can reach it's goal is the most intuitive approach. In my opinion simplicity is the key, and since for such a simple agent the algorithm will deliver good results for the first approach there is no need to change it."
      ]
    },
    {
      "cell_type": "markdown",
      "metadata": {
        "id": "xczKYyroJsJj"
      },
      "source": [
        "## Task 3: 8-puzzle problem\n",
        "\n",
        "Recall the 8-puzzle problem from the previous lesson. Reuse your code and implement an extended version assuming that each action costs 1. Propose 3 (at least) admissible heuristics. This time don't change the initial state, your solution should be capable enough to solve this.\n",
        "\n",
        "![](aima-images/fig3_4.png)"
      ]
    },
    {
      "cell_type": "code",
      "metadata": {
        "id": "ylRWw-iMJsJj"
      },
      "source": [
        "import copy\n",
        "class PuzzleProblem(Problem):\n",
        "    @property\n",
        "    def initial_state(self):\n",
        "        return [7, 2, 4, 5, 0, 6, 8, 3, 1]\n",
        "        \n",
        "    def available_actions(self, state):\n",
        "        pos = state.index(0)\n",
        "        if(pos == 0):\n",
        "          return ['DOWN', 'RIGHT']\n",
        "        if(pos == 1):\n",
        "          return ['DOWN', 'LEFT', 'RIGHT']\n",
        "        if(pos == 2):\n",
        "          return ['DOWN', 'LEFT']\n",
        "        if(pos == 3):\n",
        "          return ['DOWN', 'UP', 'RIGHT']\n",
        "        if(pos == 4):\n",
        "          return ['DOWN', 'UP', 'LEFT', 'RIGHT']\n",
        "        if(pos == 5):\n",
        "          return ['DOWN', 'UP', 'LEFT']\n",
        "        if(pos == 6):\n",
        "          return ['UP', 'RIGHT']\n",
        "        if(pos == 7):\n",
        "          return ['UP', 'LEFT', 'RIGHT']\n",
        "        if(pos == 8):\n",
        "          return ['UP', 'LEFT']\n",
        "\n",
        "    def do_action(self, state, action):\n",
        "        new_state = copy.deepcopy(state)\n",
        "        pos = state.index(0)\n",
        "        if action == 'LEFT':\n",
        "          new_pos = pos - 1\n",
        "        if action == 'RIGHT':\n",
        "          new_pos = pos + 1\n",
        "        if action == 'UP':\n",
        "          new_pos = pos - 3\n",
        "        if action == 'DOWN':\n",
        "          new_pos = pos + 3\n",
        "        new_state[pos], new_state[new_pos] = new_state[new_pos], new_state[pos]\n",
        "        return new_state\n",
        "\n",
        "    def is_goal(self, state) -> bool:\n",
        "      return state == [0, 1, 2, 3, 4, 5, 6, 7, 8]\n",
        "\n",
        "    def action_cost(self, state, action) -> float:\n",
        "        return 1\n",
        "        \n",
        "    def heuristic(self, state, path) -> float:\n",
        "        incorrect = 0\n",
        "        for i in range(9):\n",
        "            if i // 3 != state.index(i) // 3:\n",
        "                incorrect += 1\n",
        "            if i % 3 != state.index(i) % 3:\n",
        "                incorrect += 1\n",
        "        return incorrect + len(path)"
      ],
      "execution_count": null,
      "outputs": []
    },
    {
      "cell_type": "markdown",
      "metadata": {
        "id": "M3SI-quKJsJj"
      },
      "source": [
        "**Prove that this heuristic is admissible.**"
      ]
    },
    {
      "cell_type": "markdown",
      "metadata": {
        "id": "u_s6JhC4JsJj"
      },
      "source": [
        "The first heuristic counts the number of tiles which are not in their correct rows and/or collumns.\n",
        "This is an admissible heuristic, since every tile that is out of column or out of row must be moved at least once and every tile that is both out of column and out of row must be moved at least twice."
      ]
    },
    {
      "cell_type": "code",
      "metadata": {
        "id": "LdKV2viKJsJk"
      },
      "source": [
        "import math\n",
        "class PuzzleProblem1(PuzzleProblem):\n",
        "    def heuristic(self, state, path) -> float:  \n",
        "        distance = 0\n",
        "        for i in range(9):\n",
        "            distance += math.sqrt((abs((i % 3) - (state.index(i) % 3)) ** 2) + (abs((i // 3) - (state.index(i) // 3)) **2))\n",
        "        return distance + len(path)"
      ],
      "execution_count": null,
      "outputs": []
    },
    {
      "cell_type": "markdown",
      "metadata": {
        "id": "RZCcNCu9JsJk"
      },
      "source": [
        "**Prove that this heuristic is admissible.**"
      ]
    },
    {
      "cell_type": "markdown",
      "metadata": {
        "id": "IKqEqEdjJsJk"
      },
      "source": [
        "The second heuristic value is equal to the euclidean distance of the current placement of a value and it's correct placement. This is an admissible heuristic, since in every move, one tile can only move closer to its goal by one step and the eucledian distance is never greater than the number of steps required to move a tile to its goal position."
      ]
    },
    {
      "cell_type": "code",
      "metadata": {
        "id": "JtTzshuiJsJk"
      },
      "source": [
        "class PuzzleProblem2(PuzzleProblem):\n",
        "    def heuristic(self, state, path) -> float:\n",
        "        distance = 0\n",
        "        for i in range(9):\n",
        "            distance += abs((i % 3) - (state.index(i) % 3)) + abs((i // 3) - (state.index(i) // 3))\n",
        "        return distance + len(path)"
      ],
      "execution_count": null,
      "outputs": []
    },
    {
      "cell_type": "markdown",
      "metadata": {
        "id": "4qg2iooJJsJk"
      },
      "source": [
        "**Prove that this heuristic is admissible.**"
      ]
    },
    {
      "cell_type": "markdown",
      "metadata": {
        "id": "TGU9kYJfJsJk"
      },
      "source": [
        "The third heuristic value is equal to the manhattan distance of the current placement of a value and it's correct placement. This is an admissible heuristic, since in every move, one tile can only move closer to its goal by one step.\n"
      ]
    },
    {
      "cell_type": "markdown",
      "metadata": {
        "id": "fJD9q1isJsJl"
      },
      "source": [
        "Run your heuristics on the given problem."
      ]
    },
    {
      "cell_type": "code",
      "metadata": {
        "id": "qMSP00TBRpoF",
        "colab": {
          "base_uri": "https://localhost:8080/"
        },
        "outputId": "2b1d05cf-cf58-4737-f0ac-f96595c71fec"
      },
      "source": [
        "n = astar(PuzzleProblem())\n",
        "n\n",
        "print(len(n[2]))"
      ],
      "execution_count": null,
      "outputs": [
        {
          "output_type": "stream",
          "name": "stdout",
          "text": [
            "Number of states visited:  11200\n",
            "26\n"
          ]
        }
      ]
    },
    {
      "cell_type": "code",
      "metadata": {
        "id": "kF_ThvpvJsJl",
        "colab": {
          "base_uri": "https://localhost:8080/"
        },
        "outputId": "3d278096-ff34-4fcb-8b04-b35926d7a53a"
      },
      "source": [
        "plan0 = astar(PuzzleProblem())\n",
        "print(len(plan0[2]))\n",
        "plan1 = astar(PuzzleProblem1())\n",
        "print(len(plan1[2]))\n",
        "plan2 = astar(PuzzleProblem2())\n",
        "print(len(plan2[2]))\n",
        "\n",
        "print(\"Is plan0==plan1?\", plan0 == plan1)\n",
        "print(\"Is plan0==plan2?\", plan0 == plan2)\n",
        "print(\"Is plan1==plan2?\", plan1 == plan2)"
      ],
      "execution_count": null,
      "outputs": [
        {
          "output_type": "stream",
          "name": "stdout",
          "text": [
            "Number of states visited:  11200\n",
            "26\n",
            "Number of states visited:  8882\n",
            "26\n",
            "Number of states visited:  2930\n",
            "26\n",
            "Is plan0==plan1? True\n",
            "Is plan0==plan2? True\n",
            "Is plan1==plan2? True\n"
          ]
        }
      ]
    },
    {
      "cell_type": "markdown",
      "metadata": {
        "id": "5n5zxfSkJsJl"
      },
      "source": [
        "**Which of the heuristics is the best for this task? Why is that?**"
      ]
    },
    {
      "cell_type": "markdown",
      "metadata": {
        "id": "PMyz4rUGJsJl"
      },
      "source": [
        "The best heuristic for this task is Manhattan distance. Even though all 3 of them give the same path, the third one does it the fastest (as can be seen by the number of states visited).That is because if a tile could move one square in any direction, even onto an occupied square, then the third heuristic would give the exact length of the shortest solution."
      ]
    },
    {
      "cell_type": "markdown",
      "metadata": {
        "id": "iOcAV8GcJsJl"
      },
      "source": [
        "------------\n",
        "The pictures and the description of 8-puzzle are from \"Artificial Intelligence: A Modern Approach\" 3rd ed."
      ]
    }
  ]
}