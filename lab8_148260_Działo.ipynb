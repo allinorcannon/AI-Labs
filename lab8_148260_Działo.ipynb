{
  "cells": [
    {
      "cell_type": "markdown",
      "id": "f580b022-b139-404e-9e6a-47839c54df19",
      "metadata": {
        "id": "f580b022-b139-404e-9e6a-47839c54df19"
      },
      "source": [
        "# Bayesian networks"
      ]
    },
    {
      "cell_type": "markdown",
      "id": "ec70eef3-6fa5-41bf-811b-fefa99932f09",
      "metadata": {
        "id": "ec70eef3-6fa5-41bf-811b-fefa99932f09"
      },
      "source": [
        "**A 2021/22 remark**: This is a new assigment, developed under a heavy time pressure. I apologize in advance for any typos, unclear explanations and outright errors."
      ]
    },
    {
      "cell_type": "markdown",
      "id": "3a596e52-bbed-4abb-925a-f657eaa64db2",
      "metadata": {
        "id": "3a596e52-bbed-4abb-925a-f657eaa64db2"
      },
      "source": [
        "A *bayesian network* is a directed acyclic graph such that each node represents a random variable and has an associated probability distribution: \n",
        "\n",
        "* for a node without any predecessors (i.e., without any incoming edges), it is an unconditional probability distribution\n",
        "* for a node with predecessors (i.e., with some incoming edges), it is a conditional probability distribution, conditioning on the variables represented by the other end of the incoming edges. We will call these variables *parents*.\n",
        "\n",
        "The picture below shows a bayesian networks with 5 variables: two unconditional (*Bulglary*, *Earthquake*), and three conditional:\n",
        "\n",
        "* *Alarm*, conditioning on *Bulglary* and *Earthquake* (i.e., *Bulgary* and *Earthquake* are parents for *Alarm*),\n",
        "* *JohnCalls*, conditioning on *Alarm*\n",
        "* *MaryCalls*, also conditioning on *Alarm*\n",
        "\n",
        "In this particular example, each variables in a boolean variable, that is it can be either *true* or *false*. The probability distributions are incomplete, only specifying the probability for a variable being *true*. Fortunately, it is sufficient to subtract the given values from, to arrive at probabilities for *false* and thus complete the distributions.\n",
        "\n",
        "For the conditional probability distributions, each row represents a separate distribution conditioning on the values of the parent variables given in the left-hand side of the distribution. For example:\n",
        "$$ P(Alarm = true | Bulglary = true, Earhquake = false) = 0.94 $$\n",
        "and by following the previous paragraph:\n",
        "$$ P(Alarm = false | Bulglary = true, Earhquake = false) = 1 - P(Alarm = false | Bulglary = true, Earhquake = false) = 1 - 0.94 = 0.06 $$"
      ]
    },
    {
      "cell_type": "markdown",
      "id": "65fdb217-0d4b-4af3-bb7d-30f061f19802",
      "metadata": {
        "id": "65fdb217-0d4b-4af3-bb7d-30f061f19802"
      },
      "source": [
        "![](aima-images/aima4_fig13_2.png)"
      ]
    },
    {
      "cell_type": "markdown",
      "id": "83a25dac-79dd-42da-9144-de7ba8534d8e",
      "metadata": {
        "id": "83a25dac-79dd-42da-9144-de7ba8534d8e"
      },
      "source": [
        "Let us now try to come up with a data structure suitable for representing a bayesian network. We will use strings as variable names and allow more-or-less any values to be the elements of the domain of the variable. To make the code somewhat more readable, we will use Python's `typing` module and introduce some type aliases:"
      ]
    },
    {
      "cell_type": "code",
      "execution_count": 1,
      "id": "1365792c-38fc-4e71-9665-c28fa2303525",
      "metadata": {
        "id": "1365792c-38fc-4e71-9665-c28fa2303525"
      },
      "outputs": [],
      "source": [
        "from typing import *\n",
        "\n",
        "Variable = str\n",
        "DomainElement = Hashable # anything that can be a key of a dictionary"
      ]
    },
    {
      "cell_type": "markdown",
      "id": "2ecc5091-9227-42f8-8fcc-a3dca9b458ff",
      "metadata": {
        "id": "2ecc5091-9227-42f8-8fcc-a3dca9b458ff"
      },
      "source": [
        "Now, what is a probability distribution? A mapping from the elements of a domain to probabilities. In Python's terms: a dictionary `dict` from `DomainElement` to `float`"
      ]
    },
    {
      "cell_type": "code",
      "execution_count": 2,
      "id": "0999b64f-0eb4-45ff-bcc2-dd57889f315c",
      "metadata": {
        "id": "0999b64f-0eb4-45ff-bcc2-dd57889f315c"
      },
      "outputs": [],
      "source": [
        "ProbabilityDistribution = Dict[DomainElement, float]"
      ]
    },
    {
      "cell_type": "markdown",
      "id": "904b41c7-3e1c-49c1-81ae-6381fe55b3d4",
      "metadata": {
        "id": "904b41c7-3e1c-49c1-81ae-6381fe55b3d4"
      },
      "source": [
        "Conditional probability distributions is somewhat more complicated, as it requires a separate probability distribution `ProbabilityDistribution` for each assignment of values to conditions. We will represent each assignment `Assignment` as a tuple of `DomainElements` of arbitrary lenth, and the conditional probability distribution `ConditionalProbabilityDistribution` as a dictionary `dict` from `Assignment`s to `ProbabilityDistribution`s. In order to ensure that we know which position in `Assignment` represents which variable, we will introduce an auxiliary type `Parents`, being a tuple of `Variable`s of arbitrary length. It serves the same purpose as the header in the top-left corner in the conditional probability distributions given in the picture above."
      ]
    },
    {
      "cell_type": "code",
      "execution_count": 3,
      "id": "bd249b0d-9451-4753-9136-7b2a5c6ebe18",
      "metadata": {
        "id": "bd249b0d-9451-4753-9136-7b2a5c6ebe18"
      },
      "outputs": [],
      "source": [
        "Assignment = Tuple[DomainElement, ...]\n",
        "ConditionalProbabilityDistribution = Dict[Assignment, ProbabilityDistribution]\n",
        "Parents = Tuple[Variable, ...]"
      ]
    },
    {
      "cell_type": "markdown",
      "id": "3ba3d92a-173c-4803-8029-29b499276198",
      "metadata": {
        "id": "3ba3d92a-173c-4803-8029-29b499276198"
      },
      "source": [
        "The following class `BayesianNet` uses these type aliases to define a class representing a bayesian network along with some auxiliary functions. The detailed description is given below it, along with some examples how to use it."
      ]
    },
    {
      "cell_type": "code",
      "execution_count": 4,
      "id": "d7159439-c069-4820-9370-d85a15784652",
      "metadata": {
        "id": "d7159439-c069-4820-9370-d85a15784652"
      },
      "outputs": [],
      "source": [
        "class BayesianNet:        \n",
        "    _unconditional: Dict[Variable, ProbabilityDistribution]\n",
        "    _conditional: Dict[Variable, Tuple[Parents, ConditionalProbabilityDistribution]]\n",
        "    _domain: Dict[Variable, Iterable[DomainElement]]\n",
        "    \n",
        "    def __init__(self):\n",
        "        self._unconditional = {}\n",
        "        self._conditional = {}\n",
        "        self._domain = {}        \n",
        "        \n",
        "    def _check_and_normalize(self, distribution: ProbabilityDistribution) -> ProbabilityDistribution:\n",
        "        assert len(distribution.keys()) >= 2\n",
        "        if None in distribution.values():\n",
        "            rem = sum([f for f in distribution.values() if f is not None])\n",
        "            assert 0 <= rem < 1\n",
        "            noneKey = [k for k, v in distribution.items() if v is None]\n",
        "            assert len(noneKey) == 1\n",
        "            distribution[noneKey[0]] = 1 - rem\n",
        "        assert all(0<v<1 for v in distribution.values())\n",
        "        assert sum(distribution.values()) == 1\n",
        "        return distribution\n",
        "        \n",
        "    def addUnconditionalVariable(self, name: Variable, distribution: ProbabilityDistribution) -> None:        \n",
        "        assert name not in self._conditional\n",
        "        assert name not in self._unconditional\n",
        "        distribution = self._check_and_normalize(distribution)\n",
        "        self._unconditional[name] = distribution\n",
        "        self._domain[name] = set(distribution.keys())\n",
        "    \n",
        "    def addConditionalVariable(self, name: Variable, parents: Parents, cpt: ConditionalProbabilityDistribution) -> None:        \n",
        "        assert name not in self._conditional\n",
        "        assert name not in self._unconditional\n",
        "        assert isinstance(parents, tuple)\n",
        "        assert len(parents) > 0\n",
        "        assert all(len(parents) == len(k) for k in cpt.keys())\n",
        "        domain = set(next(iter(cpt.values())).keys())\n",
        "        assert all(v.keys() == domain for v in cpt.values())        \n",
        "        cpt = {k: self._check_and_normalize(distribution) for k, distribution in cpt.items()}\n",
        "        self._conditional[name] = (parents, cpt)\n",
        "        self._domain[name] = domain\n",
        "    \n",
        "    def addBooleanUnconditionalVariable(self, name: Variable, pTrue: float) -> None:\n",
        "        assert 0 < pTrue < 1\n",
        "        self.addUnconditionalVariable(name, {True: pTrue, False: 1-pTrue})\n",
        "        \n",
        "    def addBooleanConditionalVariable(self, name: Variable, parents: Parents, cpt: Dict[Assignment, float]):\n",
        "        cpt = {k: {True: v, False: 1-v} for k, v in cpt.items()}\n",
        "        self.addConditionalVariable(name, parents, cpt)\n",
        "        \n",
        "    def domain(self, name: Variable) -> Iterable[DomainElement]:\n",
        "        return self._domain[name]\n",
        "    \n",
        "    def variables(self) -> Iterable[Variable]:\n",
        "        return self._conditional.keys() | self._unconditional.keys()\n",
        "    \n",
        "    def parents(self, name: Variable) -> Parents:\n",
        "        if name in self._conditional:\n",
        "            return self._conditional[name][0]\n",
        "        else:\n",
        "            return []\n",
        "    \n",
        "    def p(self, name: Variable, value: DomainElement, condition: Dict[Variable, DomainElement]):\n",
        "        if name in self._conditional:\n",
        "            parents, cpt = self._conditional[name]\n",
        "            assert all(p in condition for p in parents)\n",
        "            condition = tuple(condition[p] for p in parents)\n",
        "            dist = cpt[condition]\n",
        "        else:\n",
        "            assert name in self._unconditional\n",
        "            dist = self._unconditional[name]\n",
        "        return dist[value]"
      ]
    },
    {
      "cell_type": "markdown",
      "id": "b06baedc-0c04-43f8-a2bf-02a514c98267",
      "metadata": {
        "id": "b06baedc-0c04-43f8-a2bf-02a514c98267"
      },
      "source": [
        "We will create a network corresponding to the one given in the picture above. For easier reading the same picture is repeated below."
      ]
    },
    {
      "cell_type": "markdown",
      "id": "33a16226-0440-4981-910e-93480758f072",
      "metadata": {
        "id": "33a16226-0440-4981-910e-93480758f072"
      },
      "source": [
        "![](aima-images/aima4_fig13_2.png)"
      ]
    },
    {
      "cell_type": "markdown",
      "id": "e5b95d36-4284-4b03-b421-84c011443140",
      "metadata": {
        "id": "e5b95d36-4284-4b03-b421-84c011443140"
      },
      "source": [
        "We begin by creating a new network in the variable `bn` and adding an unconditional variable *B* using `addUncoditionalVariable`. Its first argument is the variable, the second is a probability distribution. As this variable is a boolean variable, it is a dictionary from the boolean values to probabilities. It is allowed for one of the probabilities to remain unspecified (using `None`), in which case it is automatically computed from the remaining values."
      ]
    },
    {
      "cell_type": "code",
      "execution_count": 5,
      "id": "2d450b3e-bd60-4af8-b0cb-f04569bc5be0",
      "metadata": {
        "id": "2d450b3e-bd60-4af8-b0cb-f04569bc5be0"
      },
      "outputs": [],
      "source": [
        "bn = BayesianNet()\n",
        "bn.addUnconditionalVariable('B', {True: 0.001, False: None})"
      ]
    },
    {
      "cell_type": "markdown",
      "id": "d950a072-7870-44a0-8c7e-8c9f2156141f",
      "metadata": {
        "id": "d950a072-7870-44a0-8c7e-8c9f2156141f"
      },
      "source": [
        "Observe that we require the random variable to have at least two elements of the domain, and the numeric values given must be probabilities and not arbitrary numbers. The following cell contains commented-out code, you can uncomment each line separately, execute the cell and observe that an exception was raised."
      ]
    },
    {
      "cell_type": "code",
      "execution_count": 6,
      "id": "47e04079-21c0-4d8d-8858-cb5a1f843146",
      "metadata": {
        "id": "47e04079-21c0-4d8d-8858-cb5a1f843146"
      },
      "outputs": [],
      "source": [
        "#bn.addUnconditionalVariable('B1', {True: 1})\n",
        "#bn.addUnconditionalVariable('B1', {True: -1, False: 2})\n",
        "#bn.addUnconditionalVariable('B1', {True: None, False: None})"
      ]
    },
    {
      "cell_type": "markdown",
      "id": "2e45ea6b-8e29-477f-90d8-ab380dd3b3da",
      "metadata": {
        "id": "2e45ea6b-8e29-477f-90d8-ab380dd3b3da"
      },
      "source": [
        "For boolean variables it is somewhat cumbersome to write all this boilerplate by hand, so there's an auxiliary method `addBooleanUnconditionalVariable`, which expects only a variable name and the probability for *true*. The following line adds an unconditional variable `E` with $P(E=true) = 0.002$ and $P(E=false) = 0.998$ (computed automatically)"
      ]
    },
    {
      "cell_type": "code",
      "execution_count": 7,
      "id": "4b1f851d-887a-401b-bed9-023085d6d865",
      "metadata": {
        "id": "4b1f851d-887a-401b-bed9-023085d6d865"
      },
      "outputs": [],
      "source": [
        "bn.addBooleanUnconditionalVariable('E', 0.002) # the same as bn.addUnconditionalVariable('E', {True: 0.002, False: None})"
      ]
    },
    {
      "cell_type": "markdown",
      "id": "ef41de1b-19e0-4010-8e21-858543d7272a",
      "metadata": {
        "id": "ef41de1b-19e0-4010-8e21-858543d7272a"
      },
      "source": [
        "Now let us add the conditional variable *A*, following the distribution given in the picture. The method `addConditionalVariable` expects three parameters: a variable name, a tuple of variable names representing parents of the variable and a conditional probability distribution, i.e., a dictionary from tuples of domain elements to probability distributions. The keys in the dictionary `cpd` are each a pair of boolean values, and their meaning is given by the variable `parents`: the first value is the value for the variable *B* and the other for varialbe *E*. The probability distributions follow the same conventions as described earlier for `addUnconditionalVariable`."
      ]
    },
    {
      "cell_type": "code",
      "execution_count": 8,
      "id": "f4cb742e-9701-4ba9-8b9b-0f82f5fe5e0b",
      "metadata": {
        "id": "f4cb742e-9701-4ba9-8b9b-0f82f5fe5e0b"
      },
      "outputs": [],
      "source": [
        "parents = ('B', 'E')\n",
        "cpd = {(True, True): {True: .95, False: None}, \n",
        "       (True, False): {True: .94, False: None}, \n",
        "       (False, True): {True: .29, False: None}, \n",
        "       (False, False): {True: .001, False: None}}\n",
        "\n",
        "bn.addConditionalVariable('A', parents, cpd)"
      ]
    },
    {
      "cell_type": "markdown",
      "id": "d7941b56-056c-4e3b-9205-4ccf64a75028",
      "metadata": {
        "id": "d7941b56-056c-4e3b-9205-4ccf64a75028"
      },
      "source": [
        "Again, writing the boilerplate for boolean variables is cumbersome. Enters `addBooleanConditionalVariable`, which expects only probabilities for true in the dictionary, instead of complete probability distributions. The following two lines add two variables, *J* and *M*, both having a single parent: *A*. Observe that the second argument is still a tuple (consisting of a single element) and similarly the keys in the conditional probability distribution are tuples of a single element."
      ]
    },
    {
      "cell_type": "code",
      "execution_count": 9,
      "id": "168fd28d-f603-4679-8395-dd7b757d41a6",
      "metadata": {
        "id": "168fd28d-f603-4679-8395-dd7b757d41a6"
      },
      "outputs": [],
      "source": [
        "bn.addBooleanConditionalVariable('J', ('A',), {(True,): .9, (False,): .05})\n",
        "bn.addBooleanConditionalVariable('M', ('A',), {(True,): .7, (False,): .01})"
      ]
    },
    {
      "cell_type": "markdown",
      "id": "d34dc748-b574-449c-8ac5-d6937382bd61",
      "metadata": {
        "id": "d34dc748-b574-449c-8ac5-d6937382bd61"
      },
      "source": [
        "Let us see what variables are available in the networks:"
      ]
    },
    {
      "cell_type": "code",
      "execution_count": 10,
      "id": "75c9ed1c-f0f1-4ec7-ab2c-b6b7bd6e7983",
      "metadata": {
        "colab": {
          "base_uri": "https://localhost:8080/"
        },
        "id": "75c9ed1c-f0f1-4ec7-ab2c-b6b7bd6e7983",
        "outputId": "f1566cb9-fdd9-4e08-929b-c3382632bd39"
      },
      "outputs": [
        {
          "output_type": "execute_result",
          "data": {
            "text/plain": [
              "{'A', 'B', 'E', 'J', 'M'}"
            ]
          },
          "metadata": {},
          "execution_count": 10
        }
      ],
      "source": [
        "bn.variables()"
      ]
    },
    {
      "cell_type": "markdown",
      "id": "8b487249-127e-4d2f-a873-b40b6f24a5a0",
      "metadata": {
        "id": "8b487249-127e-4d2f-a873-b40b6f24a5a0"
      },
      "source": [
        "What is the domain of the variable *A*?"
      ]
    },
    {
      "cell_type": "code",
      "execution_count": 11,
      "id": "5967b7b5-9cdc-436d-a460-a6d7b98eec30",
      "metadata": {
        "colab": {
          "base_uri": "https://localhost:8080/"
        },
        "id": "5967b7b5-9cdc-436d-a460-a6d7b98eec30",
        "outputId": "23a0e156-f74a-41c7-d568-06c7fcec663c"
      },
      "outputs": [
        {
          "output_type": "execute_result",
          "data": {
            "text/plain": [
              "{False, True}"
            ]
          },
          "metadata": {},
          "execution_count": 11
        }
      ],
      "source": [
        "bn.domain('A')"
      ]
    },
    {
      "cell_type": "markdown",
      "id": "85b9f178-6516-4256-ab62-64a65000d241",
      "metadata": {
        "id": "85b9f178-6516-4256-ab62-64a65000d241"
      },
      "source": [
        "What are the parents of the variable *A*?"
      ]
    },
    {
      "cell_type": "code",
      "execution_count": 12,
      "id": "49ea7082-a55a-4fc5-8c6f-8e90f069c7bc",
      "metadata": {
        "colab": {
          "base_uri": "https://localhost:8080/"
        },
        "id": "49ea7082-a55a-4fc5-8c6f-8e90f069c7bc",
        "outputId": "b30d0758-1d7b-4fd5-94f5-8ec522613dbf"
      },
      "outputs": [
        {
          "output_type": "execute_result",
          "data": {
            "text/plain": [
              "('B', 'E')"
            ]
          },
          "metadata": {},
          "execution_count": 12
        }
      ],
      "source": [
        "bn.parents('A')"
      ]
    },
    {
      "cell_type": "markdown",
      "id": "85e5a7b5-6be3-451f-bf0e-2e0ff2a0cff4",
      "metadata": {
        "id": "85e5a7b5-6be3-451f-bf0e-2e0ff2a0cff4"
      },
      "source": [
        "What is the probability $P(A=true | B=true, E=false)$?"
      ]
    },
    {
      "cell_type": "code",
      "execution_count": 13,
      "id": "69773856-9116-48d2-bbc0-11ea7e4ae9c8",
      "metadata": {
        "colab": {
          "base_uri": "https://localhost:8080/"
        },
        "id": "69773856-9116-48d2-bbc0-11ea7e4ae9c8",
        "outputId": "2f26c827-5316-4139-f7f9-d8edb9046d87"
      },
      "outputs": [
        {
          "output_type": "execute_result",
          "data": {
            "text/plain": [
              "0.94"
            ]
          },
          "metadata": {},
          "execution_count": 13
        }
      ],
      "source": [
        "bn.p('A', True, {'B': True, 'E': False})"
      ]
    },
    {
      "cell_type": "markdown",
      "id": "32e5720a-4b83-440d-849b-26a884e50732",
      "metadata": {
        "id": "32e5720a-4b83-440d-849b-26a884e50732"
      },
      "source": [
        "Observe that the method `p` expects three arguments: the variable, the value we are interested in, and the conditions. There may be more information than necessary in the third argument, but there cannot be less. For example, the following cell works just fine, returning the probability of the alarm ringing given that there was a bulgary, there was no earthquake and both Mary and John called, the last two pieces of information being superfluous."
      ]
    },
    {
      "cell_type": "code",
      "execution_count": 14,
      "id": "b1bcf5d8-587b-4473-b1d8-8285c7535d55",
      "metadata": {
        "colab": {
          "base_uri": "https://localhost:8080/"
        },
        "id": "b1bcf5d8-587b-4473-b1d8-8285c7535d55",
        "outputId": "b48f0305-f718-4225-ef2a-1050ea81ede6"
      },
      "outputs": [
        {
          "output_type": "execute_result",
          "data": {
            "text/plain": [
              "0.94"
            ]
          },
          "metadata": {},
          "execution_count": 14
        }
      ],
      "source": [
        "bn.p('A', True, {'B': True, 'E': False, 'M': True, 'J': True})"
      ]
    },
    {
      "cell_type": "markdown",
      "id": "6f3288ad-ae7b-4e1b-bdf8-ea4ccebeeac6",
      "metadata": {
        "id": "6f3288ad-ae7b-4e1b-bdf8-ea4ccebeeac6"
      },
      "source": [
        "`p` will not, however, be able to deal with not enough information. The following cell will fail, as it is unknown whether there was a bulgary or not."
      ]
    },
    {
      "cell_type": "code",
      "execution_count": 15,
      "id": "8776d254-364e-472b-b8bd-a34b9ec0944d",
      "metadata": {
        "id": "8776d254-364e-472b-b8bd-a34b9ec0944d"
      },
      "outputs": [],
      "source": [
        "#bn.p('A', True, {'E': False})"
      ]
    },
    {
      "cell_type": "markdown",
      "id": "349f3b44-f342-4bf6-9505-d607341d73e6",
      "metadata": {
        "id": "349f3b44-f342-4bf6-9505-d607341d73e6"
      },
      "source": [
        "`p` works fine for unconditional variables and simply ignores the last argument (both cells below should return the same value):"
      ]
    },
    {
      "cell_type": "code",
      "execution_count": 16,
      "id": "87c687dc-a8c1-4d41-91c6-4ecb3dbcf535",
      "metadata": {
        "colab": {
          "base_uri": "https://localhost:8080/"
        },
        "id": "87c687dc-a8c1-4d41-91c6-4ecb3dbcf535",
        "outputId": "717e1c86-e79f-4f3e-e285-6b5b0b6c31c3"
      },
      "outputs": [
        {
          "output_type": "execute_result",
          "data": {
            "text/plain": [
              "0.001"
            ]
          },
          "metadata": {},
          "execution_count": 16
        }
      ],
      "source": [
        "bn.p('B', True, {'E': False})"
      ]
    },
    {
      "cell_type": "code",
      "execution_count": 17,
      "id": "8f2dc693-2dbd-401f-b8a4-4dfd92e3c778",
      "metadata": {
        "colab": {
          "base_uri": "https://localhost:8080/"
        },
        "id": "8f2dc693-2dbd-401f-b8a4-4dfd92e3c778",
        "outputId": "a5dfeff7-792b-4248-bf1c-aef3a6cd4e33"
      },
      "outputs": [
        {
          "output_type": "execute_result",
          "data": {
            "text/plain": [
              "0.001"
            ]
          },
          "metadata": {},
          "execution_count": 17
        }
      ],
      "source": [
        "bn.p('B', True, None)"
      ]
    },
    {
      "cell_type": "markdown",
      "id": "6276e9aa-b6e7-48e8-9c73-d30a83339152",
      "metadata": {
        "id": "6276e9aa-b6e7-48e8-9c73-d30a83339152"
      },
      "source": [
        "## Assignment 1: Topological sorting"
      ]
    },
    {
      "cell_type": "markdown",
      "id": "01812baa-6869-4f4e-96dc-611c5e270697",
      "metadata": {
        "id": "01812baa-6869-4f4e-96dc-611c5e270697"
      },
      "source": [
        "A *topological order* is any order such that for any variable, all its parents are earlier in the order. It is a stepping stone for an inference algorithm further down the line. The following function is checks whether the given ordering is, in fact, a topological order. If it is not, it raises an exception."
      ]
    },
    {
      "cell_type": "code",
      "execution_count": 18,
      "id": "754f216d-b37b-4391-b735-54979f93ccea",
      "metadata": {
        "id": "754f216d-b37b-4391-b735-54979f93ccea"
      },
      "outputs": [],
      "source": [
        "def verify_topological_order(bn: BayesianNet, ordering: List[Variable]):\n",
        "    for i, var in enumerate(ordering):\n",
        "        assert all(p in ordering[:i] for p in bn.parents(var))"
      ]
    },
    {
      "cell_type": "markdown",
      "id": "709d84f5-fec7-475a-acc2-9f9d09c5c6bc",
      "metadata": {
        "id": "709d84f5-fec7-475a-acc2-9f9d09c5c6bc"
      },
      "source": [
        "For example, *B, E, A, J, M* is a topological ordering for the network we constructed earlier, while *A, B, E, J, M* is not (so the second cell should fail)"
      ]
    },
    {
      "cell_type": "code",
      "execution_count": 19,
      "id": "1e3589dc-c36a-40b1-a7e2-7c7536437955",
      "metadata": {
        "id": "1e3589dc-c36a-40b1-a7e2-7c7536437955"
      },
      "outputs": [],
      "source": [
        "verify_topological_order(bn, ['B', 'E', 'A', 'J', 'M'])"
      ]
    },
    {
      "cell_type": "code",
      "execution_count": 20,
      "id": "cd230696-02e0-4dcb-a2c6-619cafc3b8e0",
      "metadata": {
        "id": "cd230696-02e0-4dcb-a2c6-619cafc3b8e0"
      },
      "outputs": [],
      "source": [
        "#verify_topological_order(bn, ['A', 'B', 'E', 'J', 'M'])"
      ]
    },
    {
      "cell_type": "markdown",
      "id": "0c4d5ce4-ba6f-465f-8bac-ee164d06bc99",
      "metadata": {
        "id": "0c4d5ce4-ba6f-465f-8bac-ee164d06bc99"
      },
      "source": [
        "Complete the following function `topological_sort` such that it returns a list of variables of the given `BayesianNet` in a *topological order*. Topological sorting is quite similar to forward chaining with Horn clauses, but without the risk of cycles, so you should have no problem coming up with a solution. (Additional reading: page 434 in AIMA 4ed, in Chapter 13.2)"
      ]
    },
    {
      "cell_type": "code",
      "execution_count": 21,
      "id": "d4c677d4-a55c-4a91-9b90-ee1853301160",
      "metadata": {
        "id": "d4c677d4-a55c-4a91-9b90-ee1853301160"
      },
      "outputs": [],
      "source": [
        "def topological_sort(bn: BayesianNet) -> List[Variable]:\n",
        "    used = set()\n",
        "    to_be_sorted = []\n",
        "    sorted_list = []\n",
        "    counter = 0\n",
        "    for var in bn.variables():\n",
        "      counter += 1\n",
        "      if len(bn.parents(var)) == 0:\n",
        "        sorted_list.append(var)\n",
        "        used.add(var)\n",
        "      else:\n",
        "        to_be_sorted.append(var)\n",
        "    while(counter != len(sorted_list)):\n",
        "      for var in to_be_sorted:\n",
        "        flag = 1\n",
        "        for parent in bn.parents(var):\n",
        "          if parent not in used:\n",
        "            flag = 0\n",
        "            break\n",
        "        if flag:\n",
        "          used.add(var)\n",
        "          to_be_sorted.remove(var)\n",
        "          sorted_list.append(var)\n",
        "    return sorted_list"
      ]
    },
    {
      "cell_type": "markdown",
      "id": "f69eeed6-a31c-4c0d-a76f-0b863ec96177",
      "metadata": {
        "id": "f69eeed6-a31c-4c0d-a76f-0b863ec96177"
      },
      "source": [
        "Lets see if your code works correctly! The following cell should not fail."
      ]
    },
    {
      "cell_type": "code",
      "execution_count": 22,
      "id": "7acd3bdd-15b4-499a-81ee-0da20d2e4d67",
      "metadata": {
        "id": "7acd3bdd-15b4-499a-81ee-0da20d2e4d67"
      },
      "outputs": [],
      "source": [
        "verify_topological_order(bn, topological_sort(bn))"
      ]
    },
    {
      "cell_type": "code",
      "execution_count": 23,
      "id": "89b44c73-c437-41c4-b237-b77780fc35f5",
      "metadata": {
        "id": "89b44c73-c437-41c4-b237-b77780fc35f5",
        "colab": {
          "base_uri": "https://localhost:8080/"
        },
        "outputId": "bcb167cc-d88a-4ebe-adf0-d5688ae06068"
      },
      "outputs": [
        {
          "output_type": "execute_result",
          "data": {
            "text/plain": [
              "['B', 'E', 'A', 'J', 'M']"
            ]
          },
          "metadata": {},
          "execution_count": 23
        }
      ],
      "source": [
        "topological_sort(bn)"
      ]
    },
    {
      "cell_type": "markdown",
      "id": "0a0eb6b5-a39a-493b-af3d-9fe288cca847",
      "metadata": {
        "id": "0a0eb6b5-a39a-493b-af3d-9fe288cca847"
      },
      "source": [
        "## Task 2: Implement inference algorithm for Bayesian Networks"
      ]
    },
    {
      "cell_type": "markdown",
      "id": "c4227473-47d3-4cb8-9fba-57db43e15f84",
      "metadata": {
        "id": "c4227473-47d3-4cb8-9fba-57db43e15f84"
      },
      "source": [
        "Complete the following function `enumeration_ask` by implementing the algorithm *ENUMERATION-ASK* given in Figure 13.11 of AIMA 4ed. It should return a probability distribution for the variable `X` given the assignment (results of observation) `e` and the Bayesian network `bn`."
      ]
    },
    {
      "cell_type": "code",
      "execution_count": 24,
      "id": "51380b15-b335-4c4b-b91f-487b4d6139a4",
      "metadata": {
        "id": "51380b15-b335-4c4b-b91f-487b4d6139a4"
      },
      "outputs": [],
      "source": [
        "import copy\n",
        "def normalize(d):\n",
        "   suma = sum(d.values())\n",
        "   factor = 1/suma\n",
        "   return {key:value*factor for key,value in d.items()}\n",
        "def enumeration_ask(X: Variable, e: Assignment, bn: BayesianNet) -> ProbabilityDistribution:\n",
        "    Q = {}\n",
        "    for xi in bn.domain(X):\n",
        "      ex = copy.deepcopy(e)\n",
        "      ex[X] = xi\n",
        "      Q[xi] = enumeration_all(topological_sort(bn), ex, bn)\n",
        "    return normalize(Q)\n",
        "def enumeration_all(vars, e: Assignment, bn: BayesianNet):\n",
        "    if len(vars) == 0:\n",
        "      return 1.0\n",
        "    V = vars[0]\n",
        "    if V in e.keys():\n",
        "      parents = {}\n",
        "      for parent in bn.parents(V):\n",
        "        parents[parent] = e[parent]\n",
        "      return bn.p(V, e[V], parents) * enumeration_all(vars[1:], e, bn)\n",
        "    else:\n",
        "      parents = {}\n",
        "      for parent in bn.parents(V):\n",
        "        parents[parent] = e[parent]\n",
        "      suma = 0\n",
        "      for v in bn.domain(V):\n",
        "        ev = copy.deepcopy(e)\n",
        "        ev[V] = v\n",
        "        suma += bn.p(V, v, parents) * enumeration_all(vars[1:], ev, bn)\n",
        "      return suma"
      ]
    },
    {
      "cell_type": "markdown",
      "id": "eca7afe2-d850-4413-ab64-ae0c183c1228",
      "metadata": {
        "id": "eca7afe2-d850-4413-ab64-ae0c183c1228"
      },
      "source": [
        "Assume that both John and Mary called. AIMA gives the probability for an ongoing bulgary of around 0.284 and 0.716 for the lack of bulgary (see page 446 of AIMA 4ed). Lets see if you agree (the following cell should not fail)"
      ]
    },
    {
      "cell_type": "code",
      "execution_count": 25,
      "id": "9c87563e-65d1-46da-8d2b-57ed34b5e512",
      "metadata": {
        "id": "9c87563e-65d1-46da-8d2b-57ed34b5e512"
      },
      "outputs": [],
      "source": [
        "prob = enumeration_ask(\"B\", {\"J\": True, \"M\": True}, bn)\n",
        "assert abs(prob[True] - 0.284) <= 0.001\n",
        "assert abs(prob[False] - 0.716) <= 0.001"
      ]
    },
    {
      "cell_type": "markdown",
      "id": "7f87e5fb-7260-42c0-a026-9b08b65a491e",
      "metadata": {
        "id": "7f87e5fb-7260-42c0-a026-9b08b65a491e"
      },
      "source": [
        "## Task 3: Biased coins"
      ]
    },
    {
      "cell_type": "markdown",
      "id": "91d84f99-1ace-416f-acbc-d8868b2908ed",
      "metadata": {
        "id": "91d84f99-1ace-416f-acbc-d8868b2908ed"
      },
      "source": [
        "Complete the following function `coins` such that it returns a Bayesian networks representing the following problem: We have a bag of three biased coins *A*, *B*, and *C* with probabilities of coming up heads of `pa`, `pb`, and `pc`, respectively. One coin is drawn randomly from the bag (with equal likelihood of drawing each of the three coins), and then the coin is flipped three times to generate the outcomes *X1*, *X2*, and *X3*. Call the conditional variables `X1`, `X2`, `X3` and define them over a binary domain consisting of the values `'H'` and `'T'`. Call the unconditional variable `Coins` and define over the domain of `'A'`, `'B'`, `'C'`\n"
      ]
    },
    {
      "cell_type": "code",
      "execution_count": 30,
      "id": "9bb37b0e-3098-430b-95dc-6c7333bc11b4",
      "metadata": {
        "id": "9bb37b0e-3098-430b-95dc-6c7333bc11b4"
      },
      "outputs": [],
      "source": [
        "def coins(pa: float, pb: float, pc: float) -> BayesianNet:\n",
        "    bn = BayesianNet()\n",
        "    bn.addUnconditionalVariable('Coin', {'A': 1/3, 'B': 1/3, 'C':1/3})\n",
        "    cpd = { ('A',): {'H': pa, 'T': 1-pa},\n",
        "            ('B',): {'H': pb, 'T': 1-pb},\n",
        "            ('C',): {'H': pc, 'T': 1-pc}}\n",
        "    bn.addConditionalVariable('X1', ('Coin',), cpd)\n",
        "    bn.addConditionalVariable('X2', ('Coin',), cpd)\n",
        "    bn.addConditionalVariable('X3', ('Coin',), cpd)\n",
        "    return bn"
      ]
    },
    {
      "cell_type": "markdown",
      "id": "bbed55a5-929a-460d-a545-7b1157ba9b54",
      "metadata": {
        "id": "bbed55a5-929a-460d-a545-7b1157ba9b54"
      },
      "source": [
        "The following cell computes the probability distribution for the variable `Coins` with probabilities of coming up heads, respectively, 30%, 60% and 75% assuming that the coin drawn from the bag yielded heads, heads and tails."
      ]
    },
    {
      "cell_type": "code",
      "execution_count": 31,
      "id": "661ce885-49fd-4c81-a3ae-694009957531",
      "metadata": {
        "id": "661ce885-49fd-4c81-a3ae-694009957531",
        "colab": {
          "base_uri": "https://localhost:8080/"
        },
        "outputId": "e50c33a2-20fb-46f7-d8f1-10a20769a5b7"
      },
      "outputs": [
        {
          "output_type": "execute_result",
          "data": {
            "text/plain": [
              "{'A': 0.18122977346278318, 'B': 0.41423948220064727, 'C': 0.40453074433656966}"
            ]
          },
          "metadata": {},
          "execution_count": 31
        }
      ],
      "source": [
        "coins_bn = coins(.3, .6, .75)\n",
        "pd = enumeration_ask('Coin', {'X1': 'H', 'X2': 'H', 'X3': 'T'}, coins_bn)\n",
        "pd"
      ]
    },
    {
      "cell_type": "markdown",
      "id": "5ec1ecd3-7eba-44b5-b9fd-147e49edfc7e",
      "metadata": {
        "id": "5ec1ecd3-7eba-44b5-b9fd-147e49edfc7e"
      },
      "source": [
        "Let's see if your solution is correct:"
      ]
    },
    {
      "cell_type": "code",
      "execution_count": 33,
      "id": "5bb69952-1ced-464c-aaa2-87e4ce99cbc7",
      "metadata": {
        "id": "5bb69952-1ced-464c-aaa2-87e4ce99cbc7"
      },
      "outputs": [],
      "source": [
        "assert abs(pd['A'] - 0.181) <= 0.005\n",
        "assert abs(pd['B'] - 0.414) <= 0.005\n",
        "assert abs(pd['C'] - 0.405) <= 0.005\n",
        "assert pd['B'] > pd['C'] > pd['A']"
      ]
    },
    {
      "cell_type": "markdown",
      "id": "03945258-7836-446f-9f07-b81d0f97c827",
      "metadata": {
        "id": "03945258-7836-446f-9f07-b81d0f97c827"
      },
      "source": [
        "---\n",
        "The pictures are from \"Artificial Intelligence: A Modern Approach\" 4rd ed. Task 3 is adapted from chapter 14 of \"Artificial Intelligence: A Modern Approach\" 3rd ed.\n",
        "\n",
        "The typing in this notepad is a bit sloppy. There should be a separate type `IncompleteProbabilityDistribution = Dict[DomainElement, Optional[float]]` explicitly allowing for `None` instead of a probability value. It would, however, make the code harder to follow."
      ]
    }
  ],
  "metadata": {
    "kernelspec": {
      "display_name": "Python 3",
      "language": "python",
      "name": "python3"
    },
    "language_info": {
      "codemirror_mode": {
        "name": "ipython",
        "version": 3
      },
      "file_extension": ".py",
      "mimetype": "text/x-python",
      "name": "python",
      "nbconvert_exporter": "python",
      "pygments_lexer": "ipython3",
      "version": "3.9.2"
    },
    "colab": {
      "name": "lab8-148260-Działo.ipynb",
      "provenance": []
    }
  },
  "nbformat": 4,
  "nbformat_minor": 5
}