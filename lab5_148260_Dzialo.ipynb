{
  "nbformat": 4,
  "nbformat_minor": 0,
  "metadata": {
    "kernelspec": {
      "display_name": "Python 3",
      "language": "python",
      "name": "python3"
    },
    "language_info": {
      "codemirror_mode": {
        "name": "ipython",
        "version": 3
      },
      "file_extension": ".py",
      "mimetype": "text/x-python",
      "name": "python",
      "nbconvert_exporter": "python",
      "pygments_lexer": "ipython3",
      "version": "3.7.3"
    },
    "colab": {
      "name": "lab5-148260-Dzialo.ipynb",
      "provenance": [],
      "collapsed_sections": []
    }
  },
  "cells": [
    {
      "cell_type": "markdown",
      "metadata": {
        "id": "OtK84sXgZ3jd"
      },
      "source": [
        "# Propositional logic\n",
        "\n",
        "Within this assignment your task is to implement two different reasoning algorithms and then employ them in a noble quest of helping a brave warrior to avoid foul Wumpus (or protecting the last living Wumpus by steering away from it a blodlust warrior - your pick). "
      ]
    },
    {
      "cell_type": "markdown",
      "metadata": {
        "id": "rFugL_c4Z3j2"
      },
      "source": [
        "## Horn clauses\n",
        "\n",
        "We'll concentrate on a very limited subset of propositional logic, namely a *conjunction* of *Horn clauses*. A Horn clause is an *implication* such that its *premise* (*left-hand side*) is a *disjunction* of *atoms* (i.e., *propositonal symbols* or *propositional variables*) and its *conclusion* (*right-hand side*) is a single atom.\n",
        "\n",
        "The following is a Horn clause:\n",
        "$$ l \\lor m \\to p $$\n",
        "It is true if its premise is false (i.e., both $l$ and $m$ are false) or both premise and conclusion are true (i.e., all three atoms $l$, $m$ and $p$ are true).\n",
        "\n",
        "An implication with a single atom in the premise is also a Horn clause (e.g., $p\\to q$). Without any issues we may also assume that an implication without *any* atoms in the premise is also a Horn clause. In this, we assume that a disjunction of an empty set is always true and thus an implication with an empty premise is, in fact, an atom specified in its conclusion.\n",
        "\n",
        "We begin by defining a *knowledge base* (KB), which will store a conjunction of Horn clauses. In the following class `KB`:\n",
        "\n",
        "* Atoms are represented as whatever objects we want as long as they properly support hashing and equality checking. For example, we can use strings.\n",
        "* A clause is a pair such that its first element is a list of atomis in the premise, while the second element is a single object representing the conclusion\n",
        "* `clauses` is a list of clauses.\n",
        "* `symbols` is a set of symbols (atoms) present in all the clauses in the knowledge base.\n",
        "* `add` is a convenience method to add a new implication: its arguments correspond to the elements of a clause (as described above).\n",
        "* `copy` makes a copy of the KB"
      ]
    },
    {
      "cell_type": "code",
      "metadata": {
        "id": "9SJv8Y25Z3j5"
      },
      "source": [
        "class KB:\n",
        "    def __init__(self):\n",
        "        self.clauses = []\n",
        "        self.symbols = set()\n",
        "    \n",
        "    def add(self, premise, conclusion):\n",
        "        self.clauses.append((premise, conclusion))        \n",
        "        self.symbols |= set(premise)\n",
        "        self.symbols.add(conclusion)\n",
        "        \n",
        "    def copy(self):\n",
        "        result = KB()\n",
        "        result.clauses.extend(self.clauses)\n",
        "        result.symbols |= self.symbols\n",
        "        return result"
      ],
      "execution_count": 233,
      "outputs": []
    },
    {
      "cell_type": "markdown",
      "metadata": {
        "id": "pi73C0oAZ3j8"
      },
      "source": [
        "We now construct a KB consisting of the following Horn clauses:\n",
        "\n",
        "* $p\\to q$\n",
        "* $l \\lor m \\to p$\n",
        "* $b \\lor l \\to m$\n",
        "* $a \\lor p \\to l$\n",
        "* $a \\lor b \\to l$\n",
        "* $x \\to w$\n",
        "* $a$\n",
        "* $b$"
      ]
    },
    {
      "cell_type": "code",
      "metadata": {
        "colab": {
          "base_uri": "https://localhost:8080/"
        },
        "id": "4G5ERqW4Z3j9",
        "outputId": "eafc5eee-7698-4a44-c329-035e1dd7269a"
      },
      "source": [
        "kb = KB()\n",
        "kb.add([\"p\"], \"q\")\n",
        "kb.add([\"l\", \"m\"], \"p\")\n",
        "kb.add([\"b\", \"l\"], \"m\")\n",
        "kb.add([\"a\", \"p\"], \"l\")\n",
        "kb.add([\"a\", \"b\"], \"l\")\n",
        "kb.add([\"x\"], \"w\")\n",
        "kb.add([], \"a\")\n",
        "kb.add([], \"b\")\n",
        "\n",
        "kb.clauses"
      ],
      "execution_count": 234,
      "outputs": [
        {
          "output_type": "execute_result",
          "data": {
            "text/plain": [
              "[(['p'], 'q'),\n",
              " (['l', 'm'], 'p'),\n",
              " (['b', 'l'], 'm'),\n",
              " (['a', 'p'], 'l'),\n",
              " (['a', 'b'], 'l'),\n",
              " (['x'], 'w'),\n",
              " ([], 'a'),\n",
              " ([], 'b')]"
            ]
          },
          "metadata": {},
          "execution_count": 234
        }
      ]
    },
    {
      "cell_type": "markdown",
      "metadata": {
        "id": "jZD36cWhZ3j_"
      },
      "source": [
        "Lets see how copying works:"
      ]
    },
    {
      "cell_type": "code",
      "metadata": {
        "colab": {
          "base_uri": "https://localhost:8080/"
        },
        "id": "3zoYivsaZ3kA",
        "outputId": "b40c93cb-16e5-4860-875d-1f948acd3a1e"
      },
      "source": [
        "kb2 = kb.copy()\n",
        "kb2.add([\"u\"], \"w\")\n",
        "\n",
        "print(\"u->w in kb:\", ([\"u\"], \"w\") in kb.clauses)\n",
        "print(\"u->w in kb2:\", ([\"u\"], \"w\") in kb2.clauses)"
      ],
      "execution_count": 235,
      "outputs": [
        {
          "output_type": "stream",
          "name": "stdout",
          "text": [
            "u->w in kb: False\n",
            "u->w in kb2: True\n"
          ]
        }
      ]
    },
    {
      "cell_type": "markdown",
      "metadata": {
        "id": "r80ewMZCZ3kC"
      },
      "source": [
        "## Reasoning\n",
        "\n",
        "The goal of a *reasoner* is to *infer* whether a given *entailment* can be *derived* (*follows*) from a given knowledge base, i.e., whether the entailment is true every time the knowledge base is true. The following class `Reasoner` defines a bare-bone interface for a reasoner: it is given a knowledge base and there is a single method `query` which should return `True` if `symbol` follows from `kb`, and `False` otherwise."
      ]
    },
    {
      "cell_type": "code",
      "metadata": {
        "id": "ag9MuYRiZ3kD"
      },
      "source": [
        "class Reasoner:\n",
        "    def __init__(self, kb: KB):\n",
        "        self.kb = kb\n",
        "        \n",
        "    def query(self, symbol) -> bool:\n",
        "        ..."
      ],
      "execution_count": 236,
      "outputs": []
    },
    {
      "cell_type": "markdown",
      "metadata": {
        "id": "R-k3UFaRZ3kF"
      },
      "source": [
        "In the following, a `DummyReasoner` is defined. It returns `True` only if the given `symbol` is explicitly asserted in the knowledge base as a Horn rule with an empty premise."
      ]
    },
    {
      "cell_type": "code",
      "metadata": {
        "colab": {
          "base_uri": "https://localhost:8080/"
        },
        "id": "zTampDHYZ3kG",
        "outputId": "171c6c0f-b4a3-4da3-d463-ac5611fa5b43"
      },
      "source": [
        "class DummyReasoner(Reasoner):\n",
        "    def __init__(self, kb: KB):\n",
        "        super().__init__(kb)\n",
        "        \n",
        "    def query(self, symbol):\n",
        "        for premise, conclusion in self.kb.clauses:\n",
        "            if conclusion == symbol and len(premise) == 0:\n",
        "                return True\n",
        "        return False\n",
        "    \n",
        "reasoner = DummyReasoner(kb)\n",
        "print(\"a follows from KB\", reasoner.query(\"a\"))\n",
        "print(\"q follows from KB\", reasoner.query(\"q\"))\n",
        "print(\"w follows from KB\", reasoner.query(\"w\"))"
      ],
      "execution_count": 237,
      "outputs": [
        {
          "output_type": "stream",
          "name": "stdout",
          "text": [
            "a follows from KB True\n",
            "q follows from KB False\n",
            "w follows from KB False\n"
          ]
        }
      ]
    },
    {
      "cell_type": "markdown",
      "metadata": {
        "id": "9E69UT_UZ3kH"
      },
      "source": [
        "The `DummyReasoner` is *sound*: if it returns `True`, it means that the symbol follows. It is, however, not *complete*: if it returns `False`, it means that either the symbol doesn't follow or that it is not explicitly asserted in the knowledge base. Compare it with the `SmartReasoner` below."
      ]
    },
    {
      "cell_type": "code",
      "metadata": {
        "colab": {
          "base_uri": "https://localhost:8080/"
        },
        "id": "VsE0n6CQZ3kI",
        "outputId": "0db43c23-98af-4ccd-c012-0b32d236b269"
      },
      "source": [
        "class SmartReasoner(Reasoner):\n",
        "    def __init__(self, kb: KB):\n",
        "        super().__init__(kb)\n",
        "        \n",
        "    def query(self, symbol):\n",
        "        return symbol in self.kb.symbols\n",
        "    \n",
        "reasoner = SmartReasoner(kb)\n",
        "print(\"a follows from KB\", reasoner.query(\"a\"))\n",
        "print(\"q follows from KB\", reasoner.query(\"q\"))\n",
        "print(\"w follows from KB\", reasoner.query(\"w\"))"
      ],
      "execution_count": 238,
      "outputs": [
        {
          "output_type": "stream",
          "name": "stdout",
          "text": [
            "a follows from KB True\n",
            "q follows from KB True\n",
            "w follows from KB True\n"
          ]
        }
      ]
    },
    {
      "cell_type": "markdown",
      "metadata": {
        "id": "9dUVCrPyZ3kI"
      },
      "source": [
        "The `SmartReasoner` avoids the pitfail of *incompleteness*: if a symbol is present anywhere in the knowledge base it claims that it follow from the knowledge base. It is complete: every time it returns `False` it means that the given symbol doesn't follow from the knowledge base. It is also *unsound*: sometimes `True` means that the symbol follows, and sometimes it is a mistake on the resoner's part."
      ]
    },
    {
      "cell_type": "markdown",
      "metadata": {
        "id": "ix2DbHPyZ3kJ"
      },
      "source": [
        "## Task 1: Implement forward chaining reasoner"
      ]
    },
    {
      "cell_type": "markdown",
      "metadata": {
        "id": "zmzN04H_Z3kJ"
      },
      "source": [
        "Recall from the lecture the procedure of forward chaining. We'll use it slightly differently here from how it is presented in the text book: we first materialize all inferences and implement `query` as simple membership checking. In the following code complete the `_infer` procedure implementing the forward chaining algorithm. It should return an iterable containing all symbol that follow from the given knowledge base `self.kb`. In the pseudocode of `PL-FC-ENTAILS?` in the text book and in the lecture slides there's a query variable `q` - just omit all expressions referreing to it."
      ]
    },
    {
      "cell_type": "code",
      "metadata": {
        "id": "tuMpJzHnZ3kK"
      },
      "source": [
        "class ForwardChainingReasoner(Reasoner):\n",
        "    def __init__(self, kb: KB):\n",
        "        super().__init__(kb)\n",
        "        self.inferred = set(self._infer())\n",
        "        \n",
        "    def query(self, symbol):\n",
        "        return symbol in self.inferred\n",
        "\n",
        "    def _infer(self):\n",
        "        inferredUtil = {}\n",
        "        count = [0 for i in range(len(self.kb.clauses))]\n",
        "        agenda = []\n",
        "        i = 0\n",
        "        #making agenda, count and inferred usable\n",
        "        for premise, conclusion in self.kb.clauses:\n",
        "            count[i] = len(premise)\n",
        "            inferredUtil[conclusion] = False\n",
        "            for p in premise:\n",
        "                inferredUtil[p] = False\n",
        "            if len(premise) == 0:\n",
        "                agenda.append(conclusion)\n",
        "            i += 1\n",
        "        #the actual algorithm\n",
        "        while len(agenda) > 0:\n",
        "            p = agenda.pop()\n",
        "            if inferredUtil[p] == False:\n",
        "                inferredUtil[p] = True\n",
        "                i = 0\n",
        "                for premise, conclusion in self.kb.clauses:\n",
        "                    if p in premise:\n",
        "                        count[i] -= 1\n",
        "                        if count[i] == 0:\n",
        "                            agenda.append(conclusion)\n",
        "                    i += 1\n",
        "        follows = []\n",
        "        for query in inferredUtil:\n",
        "            if inferredUtil[query]:\n",
        "                follows.append(query)\n",
        "        return follows"
      ],
      "execution_count": 239,
      "outputs": []
    },
    {
      "cell_type": "markdown",
      "metadata": {
        "id": "QB7DlYHuZ3kL"
      },
      "source": [
        "Lets test it on our toy knowledge base! The answers should be sound and complete (i.e., *a* follows, *q* follows, *w* doesn't follow)."
      ]
    },
    {
      "cell_type": "code",
      "metadata": {
        "colab": {
          "base_uri": "https://localhost:8080/"
        },
        "id": "4eFU2_rlZ3kL",
        "outputId": "f5d54418-5c9c-459b-a623-6009896ec9cd"
      },
      "source": [
        "reasoner = ForwardChainingReasoner(kb)\n",
        "print(\"a follows from KB\", reasoner.query(\"a\"))\n",
        "print(\"q follows from KB\", reasoner.query(\"q\"))\n",
        "print(\"w follows from KB\", reasoner.query(\"w\"))"
      ],
      "execution_count": 240,
      "outputs": [
        {
          "output_type": "stream",
          "name": "stdout",
          "text": [
            "a follows from KB True\n",
            "q follows from KB True\n",
            "w follows from KB False\n"
          ]
        }
      ]
    },
    {
      "cell_type": "markdown",
      "metadata": {
        "id": "PTWQtk27Z3kM"
      },
      "source": [
        "## Task 2: Implement backward chaining reasoner"
      ]
    },
    {
      "cell_type": "markdown",
      "metadata": {
        "id": "S7ttBTqWZ3kM"
      },
      "source": [
        "Complete the following `BackwardChainingReasoner` class so it implements backward chaining. Keep a cache of symbols for which an answer is already known (both `True` and `False`). Make sure that you avoid infinite loops in the reasoning process (the toy KB contains a possiblity for such a loop)."
      ]
    },
    {
      "cell_type": "code",
      "metadata": {
        "id": "SFYlxzGIZ3kN"
      },
      "source": [
        "import copy\n",
        "class BackwardChainingReasoner(Reasoner):\n",
        "    def __init__(self, kb: KB):\n",
        "        super().__init__(kb)\n",
        "        self.agenda = []\n",
        "        for premise, conclusion in self.kb.clauses:\n",
        "            if len(premise) == 0:\n",
        "                self.agenda.append(conclusion)\n",
        "    def query(self, symbol, visited = []) -> bool:\n",
        "        \n",
        "        if symbol in self.agenda:\n",
        "            return True\n",
        "        if symbol in visited:\n",
        "            return False\n",
        "        premises = []\n",
        "        for premise, conclusion in self.kb.clauses:\n",
        "            if conclusion == symbol:\n",
        "                premises.append(premise)\n",
        "        \n",
        "        for premise in premises:\n",
        "            count = len(premise)\n",
        "            for p in premise:\n",
        "                vis_copy = copy.deepcopy(visited)\n",
        "                vis_copy.append(symbol)\n",
        "                if self.query(p, vis_copy):\n",
        "                    count -= 1\n",
        "                else:\n",
        "                    break\n",
        "            if count == 0:\n",
        "                self.agenda.append(symbol)\n",
        "                return True\n",
        "        return False"
      ],
      "execution_count": 241,
      "outputs": []
    },
    {
      "cell_type": "markdown",
      "metadata": {
        "id": "eqn--RKgZ3kN"
      },
      "source": [
        "Lets test it on our toy knowledge base! Again, the answers should be sound and complete (i.e., *a* follows, *q* follows, *w* doesn't follow)."
      ]
    },
    {
      "cell_type": "code",
      "metadata": {
        "id": "skEIJvllZ3kO",
        "colab": {
          "base_uri": "https://localhost:8080/"
        },
        "outputId": "bc790efa-a97f-4d0a-d845-db6728b92b19"
      },
      "source": [
        "reasoner = BackwardChainingReasoner(kb)\n",
        "print(\"a follows from KB\", reasoner.query(\"a\"))\n",
        "print(\"q follows from KB\", reasoner.query(\"q\"))\n",
        "print(\"w follows from KB\", reasoner.query(\"w\"))"
      ],
      "execution_count": 242,
      "outputs": [
        {
          "output_type": "stream",
          "name": "stdout",
          "text": [
            "a follows from KB True\n",
            "q follows from KB True\n",
            "w follows from KB False\n"
          ]
        }
      ]
    },
    {
      "cell_type": "markdown",
      "metadata": {
        "id": "XuTqMivoZ3kO"
      },
      "source": [
        "## Hunt the Wumpus/Save the Wumpus!"
      ]
    },
    {
      "cell_type": "markdown",
      "metadata": {
        "id": "7ZNCU5H4Z3kO"
      },
      "source": [
        "The Wumpus lives in a $n\\times n$ cave and the behaviour of the cave follows these rules:\n",
        "\n",
        "* An entrance to the cave is always in the bottom-left square. \n",
        "* A square may either be *flat* or contain a *pit*. If the warrior walks into a pit, they fall down and die.\n",
        "* A square is *breezy* if, and only if, there is a pit in one of the directly adjacent squares (i.e., squares sharing one of the edges with the considered square).\n",
        "* There is *stench* in a square if, and only if, the Wumpus is in one of the  directly adjacent squares.\n",
        "* There is *glitter* in a square if, and only if, there's *gold* in this square.\n",
        "* If the warrior walks into a square with a living Wumpus, the Wumpus kills the warrior.\n",
        "* If the Wumpus dies (e.g., due to stress caused by the presence of the warrior), it emits a woeful *scream*. The scream can be heard anywhere in the cave and the dying Wumpus is its only possible source.\n",
        "* The Wumpus is sleeping and thus doesn't move from square to square.\n",
        "* There's exactly one wumpus in the cave. They're *the* Wumpus and don't live in a pit.\n",
        "\n",
        "The picture below presents a sample Wumpus cave where $n=4$.\n",
        "\n",
        "![](aima-images/fig7_2.png)"
      ]
    },
    {
      "cell_type": "markdown",
      "metadata": {
        "id": "L1kFP83yZ3kP"
      },
      "source": [
        "For now, we won't concern ourselves with building a complete agent capable of navigating the cave, killing the Wumpus etc. Instead, we'll concentrate on building a knowledge base for the warrior to equip them with some reasoning capabilities and to allow them to infer new knowledge about the cave from partial observations they obtained. Lets begin with creating the KB `warrior`. In the following we will assume that the squares are identified by their Cartesian coordinates, so the entrance is always at $(0,0)$ and in the sample cave above the pits are located at $(2,0)$ (the bottom pit), $(2, 2)$ (the pit in the middle) and $(3, 3)$ (the pit in the top right corner)."
      ]
    },
    {
      "cell_type": "code",
      "metadata": {
        "id": "oOOeW71gZ3kP"
      },
      "source": [
        "n = 4\n",
        "warrior = KB()"
      ],
      "execution_count": 243,
      "outputs": []
    },
    {
      "cell_type": "markdown",
      "metadata": {
        "id": "B5PWRoaUZ3kP"
      },
      "source": [
        "Consider the following sentence: *A square is breezy if, and only if, there is a pit in one of the directly adjacent squares.* For the square $(0, 0)$ we can express it in the propositional logic as $breezy_{0,0} \\leftrightarrow (pit_{1,0} \\lor pit_{0,1})$.\n",
        "This, of course, is not a Horn clause and therefore cannot be added to our knowledge base. However, not all is lost! Observe that $p\\leftrightarrow q$ is equivalent to $(p\\to q) \\land (q\\to p)$ (in other words: *p if, and only if, q* is equivalent to *if p then q and if q then p*). We can thus rewrite the biconditional as two implications:\n",
        "\n",
        "1. $(pit_{1,0} \\lor pit_{0,1}) \\to breezy_{0,0}$\n",
        "2. $breezy_{0,0} \\to (pit_{1,0} \\lor pit_{0,1})$\n",
        "\n",
        "Neither is a Horn clause, but the first one is almost there, as it can be split into two implications:\n",
        "\n",
        "3. $pit_{1,0} \\to breezy_{0,0}$\n",
        "4. $pit_{0,1} \\to breezy_{0,0}$\n",
        "\n",
        "Now lets look on the other one: $breezy_{0,0} \\to (pit_{1,0} \\lor pit_{0,1})$. Here, we can apply another trick. Consider reading of this implication: *If a square is breezy, then there is a pit in one of the directly adjacent squares*. We can easily write its contrapositive: *If there isn't a pit in one of the directly adjacent squares, then a square isn't breezy.*. In the propositional logic it becomes: $\\lnot(pit_{1,0} \\lor pit_{0,1}) \\to \\lnot breezy_{0,0}$.\n",
        "Following with the De Morgan's law we arrive at: $\\lnot pit_{1,0} \\land \\lnot pit_{0,1} \\to \\lnot breezy_{0,0}$ which... still isn't a Horn clause!\n",
        "But we've got another trick up the sleeve: we will call any square that does not contain a pit a flat square, and any square that is not breezy a windless square.\n",
        "Thus the implication finaly becomes a Horn clause:\n",
        "\n",
        "5. $flat_{1,0} \\land flat_{0,1} \\to windless_{0,0}$\n",
        "\n",
        "Splendid! But there's still one more thing to handle: currently, a single square can contain a pit and be flat at the same time.\n",
        "To handle this, we introduce a special symbol *inconsistent* which can be inferred only if two variables that are known to be inverses of each other can be proven to be both true at the same time:\n",
        "\n",
        "6. $pit_{1,0} \\land flat_{1,0} \\to inconsistent$\n",
        "7. $breezy_{1,0} \\land windless_{1,0} \\to inconsistent$\n",
        "\n",
        "Anytime $inconsistent$ becomes true, we can be sure that our knowledge base went nuts and we cannot rely on it anymore."
      ]
    },
    {
      "cell_type": "markdown",
      "metadata": {
        "id": "FDeC6bcdZ3kQ"
      },
      "source": [
        "## Task 3: Avoid the pits"
      ]
    },
    {
      "cell_type": "markdown",
      "metadata": {
        "id": "JGc69s4UZ3kQ"
      },
      "source": [
        "Complete the following cell of code and extend the KB `warrior` with the Horn clauses necessary for the warrior to infer about pits and flat squares. Use the following symbols:\n",
        "\n",
        "* `flatXY` is true if a square at $(X, Y)$ is flat.\n",
        "* `pitXY`  is true if a square at $(X, Y)$ contains a pit.\n",
        "* `breezyXY` is true if a square at $(X, Y)$ is breezy.\n",
        "* `windlessXY` is true if a square at $(X, Y)$ is windless.\n",
        "\n",
        "Implement consistency checking clauses, as it is possible that the Wumpus has some abilities to confuse the warrior about its surroundings. It is safe to assume that $n<10$ and there's no ambiguity, e.g., between `flat123` denoting a flat square at $(1,23)$ or a flat square at $(12,3)$. Be very carreful when computing the adjacent squares, for example there's no square $(-1, -1)$."
      ]
    },
    {
      "cell_type": "code",
      "metadata": {
        "id": "pSf7bY4OZ3kR",
        "colab": {
          "base_uri": "https://localhost:8080/"
        },
        "outputId": "5fb4ee79-1781-4ef9-d7db-14d4a1b14712"
      },
      "source": [
        "n = 4\n",
        "warrior = KB()\n",
        "def geteachneighbour(x, y, flag):\n",
        "    if flag == \"flat\":\n",
        "        current = \"flat\" + str(x) + str(y)\n",
        "        up, down, right, left = \"windless\" + str(x) + str(y+1), \"windless\" + str(x) + str(y-1), \"windless\" + str(x+1) + str(y), \"windless\" + str(x-1) + str(y)\n",
        "    else:\n",
        "        current = \"breezy\" + str(x) + str(y)\n",
        "        up, down, right, left = \"pit\" + str(x) + str(y+1), \"pit\" + str(x) + str(y-1), \"pit\" + str(x+1) + str(y), \"pit\" + str(x-1) + str(y)\n",
        "    if x == 0:\n",
        "        warrior.add([right], current)\n",
        "    elif x == n-1:\n",
        "        warrior.add([left], current)\n",
        "    else:\n",
        "        warrior.add([left], current)\n",
        "        warrior.add([right], current)\n",
        "    if y == 0:\n",
        "        warrior.add([up], current)\n",
        "    elif y == n - 1:\n",
        "        warrior.add([down], current)\n",
        "    else:\n",
        "        warrior.add([up], current)\n",
        "        warrior.add([down], current)\n",
        "def getallneighbours(x, y, flag):\n",
        "    if flag == \"pit\":\n",
        "        current = \"pit\" + str(x) + str(y)\n",
        "        up, down, right, left = \"breezy\" + str(x) + str(y+1), \"breezy\" + str(x) + str(y-1), \"breezy\" + str(x+1) + str(y), \"breezy\" + str(x-1) + str(y)\n",
        "    else:\n",
        "        current = \"windless\" + str(x) + str(y)\n",
        "        up, down, right, left = \"flat\" + str(x) + str(y+1), \"flat\" + str(x) + str(y-1), \"flat\" + str(x+1) + str(y), \"flat\" + str(x-1) + str(y)\n",
        "    neighbours = []\n",
        "    if x == 0:\n",
        "        neighbours.append(right)\n",
        "    elif x == n-1:\n",
        "        neighbours.append(left)\n",
        "    else:\n",
        "        neighbours.append(right)\n",
        "        neighbours.append(left)\n",
        "    if y == 0:\n",
        "        neighbours.append(up)\n",
        "    elif y == n - 1:\n",
        "        neighbours.append(down)\n",
        "    else:\n",
        "        neighbours.append(up)\n",
        "        neighbours.append(down)\n",
        "    warrior.add(neighbours, current)\n",
        "for x in range(n):\n",
        "    for y in range(n):\n",
        "        current = str(x) + str(y)\n",
        "        geteachneighbour(x, y, \"flat\")\n",
        "        geteachneighbour(x, y, \"breezy\")\n",
        "        getallneighbours(x, y, \"pit\")\n",
        "        getallneighbours(x, y, \"windless\")\n",
        "        warrior.add([\"flat\" + current, \"pit\" + current], \"inconsistent\")\n",
        "        warrior.add([\"breezy\" + current, \"windless\" + current], \"inconsistent\")\n",
        "      \n",
        "print(len(warrior.clauses))"
      ],
      "execution_count": 244,
      "outputs": [
        {
          "output_type": "stream",
          "name": "stdout",
          "text": [
            "160\n"
          ]
        }
      ]
    },
    {
      "cell_type": "markdown",
      "metadata": {
        "id": "MngxrhL2Z3kR"
      },
      "source": [
        "We'll now make a temporary copy of the warrior's knowledge base, assert it with some knowledge about the cave and see if the inferences are correct."
      ]
    },
    {
      "cell_type": "code",
      "metadata": {
        "id": "gymvu_vCZ3kV"
      },
      "source": [
        "def find_flat_squares(kb):\n",
        "    reasoner = ForwardChainingReasoner(kb)\n",
        "    assert not reasoner.query(\"inconsistent\")\n",
        "    for x in range(n):\n",
        "        for y in range(n):\n",
        "            if reasoner.query(\"flat{}{}\".format(x, y)):\n",
        "                print(\"I can prove that ({}, {}) is flat\".format(x, y))"
      ],
      "execution_count": 245,
      "outputs": []
    },
    {
      "cell_type": "code",
      "metadata": {
        "id": "vxwevJo7Z3kV",
        "colab": {
          "base_uri": "https://localhost:8080/"
        },
        "outputId": "eeff76d3-0150-43d6-94fc-5ce4c989be8c"
      },
      "source": [
        "tmp = warrior.copy()\n",
        "tmp.add([], \"windless00\")\n",
        "\n",
        "find_flat_squares(tmp)"
      ],
      "execution_count": 246,
      "outputs": [
        {
          "output_type": "stream",
          "name": "stdout",
          "text": [
            "I can prove that (0, 1) is flat\n",
            "I can prove that (1, 0) is flat\n"
          ]
        }
      ]
    },
    {
      "cell_type": "code",
      "metadata": {
        "id": "nsjpWb2zZ3kV",
        "colab": {
          "base_uri": "https://localhost:8080/"
        },
        "outputId": "d2ae66a4-0667-4da2-c346-9e991927435c"
      },
      "source": [
        "tmp.add([], \"breezy10\")\n",
        "\n",
        "find_flat_squares(tmp)"
      ],
      "execution_count": 247,
      "outputs": [
        {
          "output_type": "stream",
          "name": "stdout",
          "text": [
            "I can prove that (0, 1) is flat\n",
            "I can prove that (1, 0) is flat\n"
          ]
        }
      ]
    },
    {
      "cell_type": "code",
      "metadata": {
        "id": "Sdr4_vZ-Z3kW",
        "colab": {
          "base_uri": "https://localhost:8080/"
        },
        "outputId": "6f260e41-8a52-4bef-ed11-7d1311d703d2"
      },
      "source": [
        "tmp.add([], \"windless01\")\n",
        "\n",
        "find_flat_squares(tmp)"
      ],
      "execution_count": 248,
      "outputs": [
        {
          "output_type": "stream",
          "name": "stdout",
          "text": [
            "I can prove that (0, 0) is flat\n",
            "I can prove that (0, 1) is flat\n",
            "I can prove that (0, 2) is flat\n",
            "I can prove that (1, 0) is flat\n",
            "I can prove that (1, 1) is flat\n"
          ]
        }
      ]
    },
    {
      "cell_type": "code",
      "metadata": {
        "id": "uHoRsmKLZ3kW",
        "colab": {
          "base_uri": "https://localhost:8080/",
          "height": 321
        },
        "outputId": "d5f6e65c-24e2-443d-a24f-f880977a6f11"
      },
      "source": [
        "tmp.add([], \"pit02\")\n",
        "\n",
        "find_flat_squares(tmp)"
      ],
      "execution_count": 249,
      "outputs": [
        {
          "output_type": "error",
          "ename": "AssertionError",
          "evalue": "ignored",
          "traceback": [
            "\u001b[0;31m---------------------------------------------------------------------------\u001b[0m",
            "\u001b[0;31mAssertionError\u001b[0m                            Traceback (most recent call last)",
            "\u001b[0;32m<ipython-input-249-7886d357f085>\u001b[0m in \u001b[0;36m<module>\u001b[0;34m()\u001b[0m\n\u001b[1;32m      1\u001b[0m \u001b[0mtmp\u001b[0m\u001b[0;34m.\u001b[0m\u001b[0madd\u001b[0m\u001b[0;34m(\u001b[0m\u001b[0;34m[\u001b[0m\u001b[0;34m]\u001b[0m\u001b[0;34m,\u001b[0m \u001b[0;34m\"pit02\"\u001b[0m\u001b[0;34m)\u001b[0m\u001b[0;34m\u001b[0m\u001b[0;34m\u001b[0m\u001b[0m\n\u001b[1;32m      2\u001b[0m \u001b[0;34m\u001b[0m\u001b[0m\n\u001b[0;32m----> 3\u001b[0;31m \u001b[0mfind_flat_squares\u001b[0m\u001b[0;34m(\u001b[0m\u001b[0mtmp\u001b[0m\u001b[0;34m)\u001b[0m\u001b[0;34m\u001b[0m\u001b[0;34m\u001b[0m\u001b[0m\n\u001b[0m",
            "\u001b[0;32m<ipython-input-245-db9c099dcc5f>\u001b[0m in \u001b[0;36mfind_flat_squares\u001b[0;34m(kb)\u001b[0m\n\u001b[1;32m      1\u001b[0m \u001b[0;32mdef\u001b[0m \u001b[0mfind_flat_squares\u001b[0m\u001b[0;34m(\u001b[0m\u001b[0mkb\u001b[0m\u001b[0;34m)\u001b[0m\u001b[0;34m:\u001b[0m\u001b[0;34m\u001b[0m\u001b[0;34m\u001b[0m\u001b[0m\n\u001b[1;32m      2\u001b[0m     \u001b[0mreasoner\u001b[0m \u001b[0;34m=\u001b[0m \u001b[0mForwardChainingReasoner\u001b[0m\u001b[0;34m(\u001b[0m\u001b[0mkb\u001b[0m\u001b[0;34m)\u001b[0m\u001b[0;34m\u001b[0m\u001b[0;34m\u001b[0m\u001b[0m\n\u001b[0;32m----> 3\u001b[0;31m     \u001b[0;32massert\u001b[0m \u001b[0;32mnot\u001b[0m \u001b[0mreasoner\u001b[0m\u001b[0;34m.\u001b[0m\u001b[0mquery\u001b[0m\u001b[0;34m(\u001b[0m\u001b[0;34m\"inconsistent\"\u001b[0m\u001b[0;34m)\u001b[0m\u001b[0;34m\u001b[0m\u001b[0;34m\u001b[0m\u001b[0m\n\u001b[0m\u001b[1;32m      4\u001b[0m     \u001b[0;32mfor\u001b[0m \u001b[0mx\u001b[0m \u001b[0;32min\u001b[0m \u001b[0mrange\u001b[0m\u001b[0;34m(\u001b[0m\u001b[0mn\u001b[0m\u001b[0;34m)\u001b[0m\u001b[0;34m:\u001b[0m\u001b[0;34m\u001b[0m\u001b[0;34m\u001b[0m\u001b[0m\n\u001b[1;32m      5\u001b[0m         \u001b[0;32mfor\u001b[0m \u001b[0my\u001b[0m \u001b[0;32min\u001b[0m \u001b[0mrange\u001b[0m\u001b[0;34m(\u001b[0m\u001b[0mn\u001b[0m\u001b[0;34m)\u001b[0m\u001b[0;34m:\u001b[0m\u001b[0;34m\u001b[0m\u001b[0;34m\u001b[0m\u001b[0m\n",
            "\u001b[0;31mAssertionError\u001b[0m: "
          ]
        }
      ]
    },
    {
      "cell_type": "markdown",
      "metadata": {
        "id": "Yp2kbU8JZ3kW"
      },
      "source": [
        "So it seems that the Wumpus actually have some strange abilities and they tried to convince the warrior that there's a pit at $(0, 2)$. If your KB is correct the cell above should've failed with an assertion error, as the KB became inconsistent."
      ]
    },
    {
      "cell_type": "markdown",
      "metadata": {
        "id": "cxWjR2FfZ3kX"
      },
      "source": [
        "## Task 4: Tracking the Wumpus"
      ]
    },
    {
      "cell_type": "markdown",
      "metadata": {
        "id": "Hfbp-WkzZ3kX"
      },
      "source": [
        "Great, the warrior can now infer which fields are flat, but this doesn't guarantee safety of/from the Wumpus. In the following cell extend the kb `warrior` with knowledge about tracking the Wumpus using the stench. Use the following symbols:\n",
        "\n",
        "* `stenchXY` is true if there's stench in the square $(X, Y)$\n",
        "* `freshXY` is true if the air in the square $(X, Y)$ is fresh (i.e., thre's no stench)\n",
        "* `wumpusfreeXY` is true if the Wumpus is not in the square $(X, Y)$\n",
        "* `wumpusXY` is true if the Wumpus is in the square $(X, Y)$\n",
        "\n",
        "In the previous task the goal was to find squares that are flat (i.e., to avoid pits). Now, the goal is different: it is to actually find the Wumpus. Observe the following: *For any given square with a stench, if you can prove that the Wumpus is not present in all but one directly adjacent squares, the Wumpus must be present in the last remaining directly adjacent square.*"
      ]
    },
    {
      "cell_type": "code",
      "metadata": {
        "id": "bYDeiXsRZ3kX"
      },
      "source": [
        "'''There is stench in a square if, and only if, the Wumpus is in one of the directly adjacent squares.'''\n",
        "'''wumpusfree - negation of wumpus'''\n",
        "def geteachneighbour(x, y, flag):\n",
        "    if flag == \"stench\":\n",
        "        current = \"stench\" + str(x) + str(y)\n",
        "        up, down, right, left = \"wumpus\" + str(x) + str(y+1), \"wumpus\" + str(x) + str(y-1), \"wumpus\" + str(x+1) + str(y), \"wumpus\" + str(x-1) + str(y)\n",
        "    else:\n",
        "        current = \"wumpusfree\" + str(x) + str(y)\n",
        "        up, down, right, left = \"fresh\" + str(x) + str(y+1), \"fresh\" + str(x) + str(y-1), \"fresh\" + str(x+1) + str(y), \"fresh\" + str(x-1) + str(y)\n",
        "    if x == 0:\n",
        "        warrior.add([right], current)\n",
        "    elif x == n-1:\n",
        "        warrior.add([left], current)\n",
        "    else:\n",
        "        warrior.add([left], current)\n",
        "        warrior.add([right], current)\n",
        "    if y == 0:\n",
        "        warrior.add([up], current)\n",
        "    elif y == n - 1:\n",
        "        warrior.add([down], current)\n",
        "    else:\n",
        "        warrior.add([up], current)\n",
        "        warrior.add([down], current)\n",
        "'''fresh - negation of stench'''\n",
        "'''There is wumpus in a square if, and only if, there is a stench in all of the directly adjacent squares.'''\n",
        "def getallneighbours(x, y, flag):\n",
        "    if flag == \"fresh\":\n",
        "        current = \"fresh\" + str(x) + str(y)\n",
        "        up, down, right, left = \"wumpusfree\" + str(x) + str(y+1), \"wumpusfree\" + str(x) + str(y-1), \"wumpusfree\" + str(x+1) + str(y), \"wumpusfree\" + str(x-1) + str(y)\n",
        "    else:\n",
        "        current = \"wumpus\" + str(x) + str(y)\n",
        "        up, down, right, left = \"stench\" + str(x) + str(y+1), \"stench\" + str(x) + str(y-1), \"stench\" + str(x+1) + str(y), \"stench\" + str(x-1) + str(y)\n",
        "    neighbours = []\n",
        "    if x == 0:\n",
        "        neighbours.append(right)\n",
        "    elif x == n-1:\n",
        "        neighbours.append(left)\n",
        "    else:\n",
        "        neighbours.append(right)\n",
        "        neighbours.append(left)\n",
        "    if y == 0:\n",
        "        neighbours.append(up)\n",
        "    elif y == n - 1:\n",
        "        neighbours.append(down)\n",
        "    else:\n",
        "        neighbours.append(up)\n",
        "        neighbours.append(down)\n",
        "    warrior.add(neighbours, current)\n",
        "\n",
        "'''For any given square with a stench, if you can prove that the Wumpus is not present in all but one directly adjacent squares, the Wumpus must be present in the last remaining directly adjacent square.'''\n",
        "def findwumpus(x, y):\n",
        "    stench = \"stench\" + str(x) + str(y)\n",
        "    up, down, right, left = \"wumpusfree\" + str(x) + str(y+1), \"wumpusfree\" + str(x) + str(y-1), \"wumpusfree\" + str(x+1) + str(y), \"wumpusfree\" + str(x-1) + str(y)\n",
        "    if x != 0:\n",
        "        wumpus = \"wumpus\" + str(x-1) + str(y)\n",
        "        neighbours = [stench]\n",
        "        if x != n - 1:\n",
        "            neighbours.append(right)\n",
        "        if y != 0:\n",
        "            neighbours.append(down)\n",
        "        if y != n - 1:\n",
        "            neighbours.append(up)\n",
        "        warrior.add(neighbours, wumpus)\n",
        "    if x != n - 1:\n",
        "        wumpus = \"wumpus\" + str(x+1) + str(y)\n",
        "        neighbours = [stench]\n",
        "        if x != 0:\n",
        "            neighbours.append(left)\n",
        "        if y != 0:\n",
        "            neighbours.append(down)\n",
        "        if y != n - 1:\n",
        "            neighbours.append(up)\n",
        "        warrior.add(neighbours, wumpus)\n",
        "    if y != 0:\n",
        "        wumpus = \"wumpus\" + str(x) + str(y-1)\n",
        "        neighbours = [stench]\n",
        "        if y != n-1:\n",
        "            neighbours.append(up)\n",
        "        if x != 0:\n",
        "            neighbours.append(left)\n",
        "        if x != n-1:\n",
        "            neighbours.append(right)\n",
        "        warrior.add(neighbours, wumpus)\n",
        "    if y != n-1:\n",
        "        wumpus = \"wumpus\" + str(x) + str(y+1)\n",
        "        neighbours = [stench]\n",
        "        if y != 0:\n",
        "            neighbours.append(down)\n",
        "        if x != 0:\n",
        "            neighbours.append(left)\n",
        "        if x != n-1:\n",
        "            neighbours.append(right)\n",
        "        warrior.add(neighbours, wumpus)\n",
        "for x in range(n):\n",
        "    for y in range(n):\n",
        "        current = str(x) + str(y)\n",
        "        geteachneighbour(x, y, \"stench\")\n",
        "        geteachneighbour(x, y, \"wumpusfree\")\n",
        "        getallneighbours(x, y, \"fresh\")\n",
        "        getallneighbours(x, y, \"wumpus\")\n",
        "        findwumpus(x, y)\n",
        "        warrior.add([\"stench\" + current, \"fresh\" + current], \"inconsistent\")\n",
        "        warrior.add([\"wumpus\" + current, \"wumpusfree\" + current], \"inconsistent\")"
      ],
      "execution_count": 250,
      "outputs": []
    },
    {
      "cell_type": "markdown",
      "metadata": {
        "id": "5SNDJPg0Z3kY"
      },
      "source": [
        "Again, let's make a copy of the KB and see if the warrior can perform track the Wumpus."
      ]
    },
    {
      "cell_type": "code",
      "metadata": {
        "id": "iA9_ob-DZ3kY"
      },
      "source": [
        "def track_the_wumpus(kb):\n",
        "    reasoner = BackwardChainingReasoner(kb)\n",
        "    assert not reasoner.query(\"inconsistent\")\n",
        "    for x in range(n):\n",
        "        for y in range(n):\n",
        "            if reasoner.query(\"wumpus{}{}\".format(x, y)):\n",
        "                print(\"I can prove that the wumpus lives at ({}, {})\".format(x, y))"
      ],
      "execution_count": 251,
      "outputs": []
    },
    {
      "cell_type": "code",
      "metadata": {
        "id": "UZ-ykpAaZ3kZ",
        "colab": {
          "base_uri": "https://localhost:8080/"
        },
        "outputId": "3d51edf5-2ba4-4955-dd5c-09fb56082986"
      },
      "source": [
        "tmp = warrior.copy()\n",
        "tmp.add([], \"fresh10\")\n",
        "tmp.add([], \"stench01\")\n",
        "track_the_wumpus(tmp)"
      ],
      "execution_count": 252,
      "outputs": [
        {
          "output_type": "stream",
          "name": "stdout",
          "text": [
            "I can prove that the wumpus lives at (0, 2)\n"
          ]
        }
      ]
    },
    {
      "cell_type": "markdown",
      "metadata": {
        "id": "n-CLX0XaZ3kZ"
      },
      "source": [
        "If your KB is correct, these two pieces of information: there is stench at $(0, 1)$ and there is fresh air at $(1, 0)$ should be sufficient to infer where the Wumpus lives. Lets consider another inference."
      ]
    },
    {
      "cell_type": "code",
      "metadata": {
        "id": "lsuchZFEZ3kZ",
        "colab": {
          "base_uri": "https://localhost:8080/"
        },
        "outputId": "0b136227-c327-459b-df86-8b6b1b324a04"
      },
      "source": [
        "tmp = warrior.copy()\n",
        "tmp.add([], \"stench12\")\n",
        "tmp.add([], \"fresh23\")\n",
        "tmp.add([], \"fresh10\")\n",
        "track_the_wumpus(tmp)"
      ],
      "execution_count": 253,
      "outputs": [
        {
          "output_type": "stream",
          "name": "stdout",
          "text": [
            "I can prove that the wumpus lives at (0, 2)\n"
          ]
        }
      ]
    },
    {
      "cell_type": "markdown",
      "metadata": {
        "id": "x_pHaRbrZ3kZ"
      },
      "source": [
        "Alas, the Wumpus does take a bath from time to time! If your KB has necessary clauses for inconsistency, the following cell should fail."
      ]
    },
    {
      "cell_type": "code",
      "metadata": {
        "id": "Lhb5IObyZ3ka",
        "colab": {
          "base_uri": "https://localhost:8080/",
          "height": 321
        },
        "outputId": "4c8c50cb-8bb4-46e7-d550-ee7f6fe2f0ec"
      },
      "source": [
        "tmp = warrior.copy()\n",
        "tmp.add([], \"fresh10\")\n",
        "tmp.add([], \"stench01\")\n",
        "tmp.add([], \"fresh03\")\n",
        "track_the_wumpus(tmp)"
      ],
      "execution_count": 254,
      "outputs": [
        {
          "output_type": "error",
          "ename": "AssertionError",
          "evalue": "ignored",
          "traceback": [
            "\u001b[0;31m---------------------------------------------------------------------------\u001b[0m",
            "\u001b[0;31mAssertionError\u001b[0m                            Traceback (most recent call last)",
            "\u001b[0;32m<ipython-input-254-421f453a0c62>\u001b[0m in \u001b[0;36m<module>\u001b[0;34m()\u001b[0m\n\u001b[1;32m      3\u001b[0m \u001b[0mtmp\u001b[0m\u001b[0;34m.\u001b[0m\u001b[0madd\u001b[0m\u001b[0;34m(\u001b[0m\u001b[0;34m[\u001b[0m\u001b[0;34m]\u001b[0m\u001b[0;34m,\u001b[0m \u001b[0;34m\"stench01\"\u001b[0m\u001b[0;34m)\u001b[0m\u001b[0;34m\u001b[0m\u001b[0;34m\u001b[0m\u001b[0m\n\u001b[1;32m      4\u001b[0m \u001b[0mtmp\u001b[0m\u001b[0;34m.\u001b[0m\u001b[0madd\u001b[0m\u001b[0;34m(\u001b[0m\u001b[0;34m[\u001b[0m\u001b[0;34m]\u001b[0m\u001b[0;34m,\u001b[0m \u001b[0;34m\"fresh03\"\u001b[0m\u001b[0;34m)\u001b[0m\u001b[0;34m\u001b[0m\u001b[0;34m\u001b[0m\u001b[0m\n\u001b[0;32m----> 5\u001b[0;31m \u001b[0mtrack_the_wumpus\u001b[0m\u001b[0;34m(\u001b[0m\u001b[0mtmp\u001b[0m\u001b[0;34m)\u001b[0m\u001b[0;34m\u001b[0m\u001b[0;34m\u001b[0m\u001b[0m\n\u001b[0m",
            "\u001b[0;32m<ipython-input-251-0a6f826493f0>\u001b[0m in \u001b[0;36mtrack_the_wumpus\u001b[0;34m(kb)\u001b[0m\n\u001b[1;32m      1\u001b[0m \u001b[0;32mdef\u001b[0m \u001b[0mtrack_the_wumpus\u001b[0m\u001b[0;34m(\u001b[0m\u001b[0mkb\u001b[0m\u001b[0;34m)\u001b[0m\u001b[0;34m:\u001b[0m\u001b[0;34m\u001b[0m\u001b[0;34m\u001b[0m\u001b[0m\n\u001b[1;32m      2\u001b[0m     \u001b[0mreasoner\u001b[0m \u001b[0;34m=\u001b[0m \u001b[0mBackwardChainingReasoner\u001b[0m\u001b[0;34m(\u001b[0m\u001b[0mkb\u001b[0m\u001b[0;34m)\u001b[0m\u001b[0;34m\u001b[0m\u001b[0;34m\u001b[0m\u001b[0m\n\u001b[0;32m----> 3\u001b[0;31m     \u001b[0;32massert\u001b[0m \u001b[0;32mnot\u001b[0m \u001b[0mreasoner\u001b[0m\u001b[0;34m.\u001b[0m\u001b[0mquery\u001b[0m\u001b[0;34m(\u001b[0m\u001b[0;34m\"inconsistent\"\u001b[0m\u001b[0;34m)\u001b[0m\u001b[0;34m\u001b[0m\u001b[0;34m\u001b[0m\u001b[0m\n\u001b[0m\u001b[1;32m      4\u001b[0m     \u001b[0;32mfor\u001b[0m \u001b[0mx\u001b[0m \u001b[0;32min\u001b[0m \u001b[0mrange\u001b[0m\u001b[0;34m(\u001b[0m\u001b[0mn\u001b[0m\u001b[0;34m)\u001b[0m\u001b[0;34m:\u001b[0m\u001b[0;34m\u001b[0m\u001b[0;34m\u001b[0m\u001b[0m\n\u001b[1;32m      5\u001b[0m         \u001b[0;32mfor\u001b[0m \u001b[0my\u001b[0m \u001b[0;32min\u001b[0m \u001b[0mrange\u001b[0m\u001b[0;34m(\u001b[0m\u001b[0mn\u001b[0m\u001b[0;34m)\u001b[0m\u001b[0;34m:\u001b[0m\u001b[0;34m\u001b[0m\u001b[0;34m\u001b[0m\u001b[0m\n",
            "\u001b[0;31mAssertionError\u001b[0m: "
          ]
        }
      ]
    },
    {
      "cell_type": "markdown",
      "metadata": {
        "id": "zXlCcZb-Z3ka"
      },
      "source": [
        "## A final remark\n",
        "\n",
        "Both forward and backward chaining are sound, complete and efficient procedure for Horn rules. Unfortunately, there's a problem with Horn rules in propositional logic: they're a very weak tool, in some cases requiring a lot of patience, ingenuity and computing partial inferences (c.f. Task 3) beforehand."
      ]
    }
  ]
}