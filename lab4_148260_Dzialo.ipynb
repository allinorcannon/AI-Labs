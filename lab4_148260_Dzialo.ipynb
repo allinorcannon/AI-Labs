{
  "nbformat": 4,
  "nbformat_minor": 0,
  "metadata": {
    "kernelspec": {
      "display_name": "Python 3",
      "language": "python",
      "name": "python3"
    },
    "language_info": {
      "codemirror_mode": {
        "name": "ipython",
        "version": 3
      },
      "file_extension": ".py",
      "mimetype": "text/x-python",
      "name": "python",
      "nbconvert_exporter": "python",
      "pygments_lexer": "ipython3",
      "version": "3.7.3"
    },
    "colab": {
      "name": "lab4-148260-Dzialo.ipynb",
      "provenance": [],
      "collapsed_sections": []
    }
  },
  "cells": [
    {
      "cell_type": "markdown",
      "metadata": {
        "id": "_E_xM8YwU2XS"
      },
      "source": [
        "# Playing games!"
      ]
    },
    {
      "cell_type": "markdown",
      "metadata": {
        "id": "1GRVg_woU2XY"
      },
      "source": [
        "In this assignment your task is to make computer play games. Of course, we limit ourselves to a very limited subset of games: two players, zero sum, perfect information, deterministic games. These properties may require some explanation:\n",
        "\n",
        "* *Two players* is pretty straightforward: there are exactly two players. Any less is a puzzle (see previous classes), any more is interesting (but out of scope).\n",
        "* *Zero sum* means that a win of one player is necessarly a loss of the other player. For example, if one player wins the game having 100 points, the other player must have exactly -100 points.\n",
        "* *Perfect information* means that there are no hidden variables in the game, like some cards kept in secret by players. Both players can see exactly the same thing.\n",
        "* *Deterministic* means that there is no randomness in the game, no dices, no decks of cards, etc.\n",
        "\n",
        "Each and every of these assumptions can be relaxed, yielding a more complex variant of the problem of playing games."
      ]
    },
    {
      "cell_type": "markdown",
      "metadata": {
        "id": "qtQA183iU2Xa"
      },
      "source": [
        "## Game\n",
        "\n",
        "We begin by defining a general class `Game`, equipped with 7 functions:\n",
        "\n",
        "* `initial_state` returns a representation of an intial state of the game, e.g., an empty board and an information which player plays first. State is opaque to search algorithms, similarly as in the classes on Agents and A*.\n",
        "* `player` return the id of a player to make a move in the given `state`. Here we consistently use number 1 to represent the first player and 2 to represent the second player, but in general any two distict identifiers would suffice.\n",
        "* `actions` returns a list of valid moves in the given state. This corresponds to the list of available actions in previous classes.\n",
        "* `result` returns a new state after performing the given `action` in the given `state`. This is the transition model underpinning the game.\n",
        "* `is_terminal` returns `True` if the given `state` is a terminal node in the search tree, i.e., either one of the players won or it is a draw. This is a leaf in a search tree and no further actions can be executed.\n",
        "* `utility` can be called only for a terminal `state` and returns a numeric representation of how good this state is for the given `player`. Because we are considering zero-sum games it is always true that `utility(state, 1) = -utility(state, 2)`\n",
        "* `print_state` is a helper function to pretty-print the given `state` to the standard output. As the representation is opaque and possibly hard to read for a human, this little function will make our lives much easier further down the line."
      ]
    },
    {
      "cell_type": "code",
      "metadata": {
        "id": "gCmXYLo8U2Xb"
      },
      "source": [
        "class Game:\n",
        "    @property\n",
        "    def initial_state(self):\n",
        "        ...\n",
        "        return state\n",
        "    \n",
        "    def player(self, state):\n",
        "        ...\n",
        "        return playerno\n",
        "        \n",
        "    def actions(self, state):\n",
        "        ...\n",
        "        return actions\n",
        "        \n",
        "    def result(self, state, action):\n",
        "        ...\n",
        "        return new_state\n",
        "        \n",
        "    def is_terminal(self, state):\n",
        "        ...\n",
        "        return boolean\n",
        "        \n",
        "    def utility(self, state, player):\n",
        "        ...        \n",
        "        return number\n",
        "        \n",
        "    def print_state(self, state):\n",
        "        ...        "
      ],
      "execution_count": 2,
      "outputs": []
    },
    {
      "cell_type": "markdown",
      "metadata": {
        "id": "C9rjGWitU2Xe"
      },
      "source": [
        "For convenience we define a simple function `opponent` that, given a player id, returns the id of the other player."
      ]
    },
    {
      "cell_type": "code",
      "metadata": {
        "id": "oGZ-TU98U2Xf"
      },
      "source": [
        "def opponent(player):    \n",
        "    assert player in {1, 2}\n",
        "    if player == 1:\n",
        "        return 2\n",
        "    else:\n",
        "        return 1"
      ],
      "execution_count": 3,
      "outputs": []
    },
    {
      "cell_type": "markdown",
      "metadata": {
        "id": "XkzLhfKhU2Xf"
      },
      "source": [
        "## Tic-Tac-Toe\n",
        "\n",
        "The first game we'll consider is *Tic-Tac-Toe* (*noughts and crosses*) in its bare minimum. For completeness, let me quote [Wikipedia](https://en.wikipedia.org/w/index.php?title=Tic-tac-toe&oldid=986503204) on rules: \n",
        "\n",
        "> Tic-tac-toe (American English), noughts and crosses (Commonwealth English), or Xs and Os, is a paper-and-pencil game for two players, X and O, who take turns marking the spaces in a 3×3 grid. The player who succeeds in placing three of their marks in a horizontal, vertical, or diagonal row is the winner. It is a solved game with a forced draw assuming best play from both players."
      ]
    },
    {
      "cell_type": "code",
      "metadata": {
        "id": "5mAbUbemU2Xg"
      },
      "source": [
        "class TicTacToe(Game):    \n",
        "    @property\n",
        "    def initial_state(self):\n",
        "        return (1, (0,)*9)\n",
        "    \n",
        "    def player(self, state):\n",
        "        return state[0]\n",
        "        \n",
        "    def actions(self, state):\n",
        "        return [i for i, v in enumerate(state[1]) if v == 0]\n",
        "        \n",
        "    def result(self, state, action):\n",
        "        board = state[1]\n",
        "        assert board[action] == 0\n",
        "        assert state[0] in {1, 2}\n",
        "        board = board[:action] + (state[0],) + board[action+1:]\n",
        "        next_player = opponent(state[0])        \n",
        "        return (next_player, board)\n",
        "        \n",
        "    def _has_line(self, state, player):\n",
        "        board = state[1]\n",
        "        for i in [0, 3, 6]:\n",
        "            if board[i] == board[i+1] == board[i+2] == player:\n",
        "                return True\n",
        "        for i in [0, 1, 2]:\n",
        "            if board[i] == board[i+3] == board[i+6] == player:\n",
        "                return True\n",
        "        if board[0] == board[3+1] == board[2*3+2] == player:\n",
        "            return True\n",
        "        if board[2] == board[3+1] == board[2*3] == player:\n",
        "            return True\n",
        "        return False\n",
        "        \n",
        "    def is_terminal(self, state):\n",
        "        if all([v != 0 for v in state[1]]):\n",
        "            return True\n",
        "        return self._has_line(state, 1) or self._has_line(state, 2)\n",
        "    \n",
        "    def utility(self, state, player):\n",
        "        assert player in {1, 2}\n",
        "        mine = self._has_line(state, player)\n",
        "        opponents = self._has_line(state, opponent(player))\n",
        "        if mine and not opponents:\n",
        "            return 1\n",
        "        if not mine and opponents:\n",
        "            return -1\n",
        "        return 0    \n",
        "    \n",
        "    def print_state(self, state):\n",
        "        print(\"Player making move\", \" OX\"[state[0]])\n",
        "        board = [\"_OX\"[v] for v in state[1]]\n",
        "        print(*board[0:3])\n",
        "        print(*board[3:6])\n",
        "        print(*board[6:9])"
      ],
      "execution_count": 4,
      "outputs": []
    },
    {
      "cell_type": "markdown",
      "metadata": {
        "id": "5h_LIIMDU2Xh"
      },
      "source": [
        "The actions are represented by the number of field where to put a mark, using the following map:\n",
        "```\n",
        "0|1|2\n",
        "-----\n",
        "3|4|5\n",
        "-----\n",
        "6|7|8\n",
        "```\n",
        "\n",
        "The cell below executes a sequence of actions that leads to a draw."
      ]
    },
    {
      "cell_type": "code",
      "metadata": {
        "scrolled": true,
        "colab": {
          "base_uri": "https://localhost:8080/"
        },
        "id": "EyKUK9HYU2Xi",
        "outputId": "3224c1d1-0501-4c88-d80e-3106938862dc"
      },
      "source": [
        "game = TicTacToe()\n",
        "state = game.initial_state\n",
        "game.print_state(state)\n",
        "\n",
        "for action in [4,0,6,2,1,7,5,3,8]:\n",
        "    assert action in game.actions(state)\n",
        "    assert not game.is_terminal(state)\n",
        "    state = game.result(state, action)\n",
        "    game.print_state(state)\n",
        "    \n",
        "print(\"Reached terminal state?\", game.is_terminal(state))\n",
        "print(\"Utility for the 1st player\", game.utility(state, 1))\n",
        "print(\"Utility for the 2nd player\", game.utility(state, 2))"
      ],
      "execution_count": 5,
      "outputs": [
        {
          "output_type": "stream",
          "name": "stdout",
          "text": [
            "Player making move O\n",
            "_ _ _\n",
            "_ _ _\n",
            "_ _ _\n",
            "Player making move X\n",
            "_ _ _\n",
            "_ O _\n",
            "_ _ _\n",
            "Player making move O\n",
            "X _ _\n",
            "_ O _\n",
            "_ _ _\n",
            "Player making move X\n",
            "X _ _\n",
            "_ O _\n",
            "O _ _\n",
            "Player making move O\n",
            "X _ X\n",
            "_ O _\n",
            "O _ _\n",
            "Player making move X\n",
            "X O X\n",
            "_ O _\n",
            "O _ _\n",
            "Player making move O\n",
            "X O X\n",
            "_ O _\n",
            "O X _\n",
            "Player making move X\n",
            "X O X\n",
            "_ O O\n",
            "O X _\n",
            "Player making move O\n",
            "X O X\n",
            "X O O\n",
            "O X _\n",
            "Player making move X\n",
            "X O X\n",
            "X O O\n",
            "O X O\n",
            "Reached terminal state? True\n",
            "Utility for the 1st player 0\n",
            "Utility for the 2nd player 0\n"
          ]
        }
      ]
    },
    {
      "cell_type": "markdown",
      "metadata": {
        "id": "Pb2CNZP_U2Xi"
      },
      "source": [
        "Below, 2 plays suboptimally and loses."
      ]
    },
    {
      "cell_type": "code",
      "metadata": {
        "scrolled": true,
        "colab": {
          "base_uri": "https://localhost:8080/"
        },
        "id": "J98XR7siU2Xj",
        "outputId": "a625bd05-b498-44e8-da4d-69054c51a7c9"
      },
      "source": [
        "game = TicTacToe()\n",
        "state = game.initial_state\n",
        "game.print_state(state)\n",
        "\n",
        "for action in [4,0,6,2,1,8,7]:\n",
        "    assert action in game.actions(state)\n",
        "    assert not game.is_terminal(state)\n",
        "    state = game.result(state, action)\n",
        "    game.print_state(state)\n",
        "    \n",
        "print(\"Reached terminal state?\", game.is_terminal(state))\n",
        "print(\"Utility for the 1st player\", game.utility(state, 1))\n",
        "print(\"Utility for the 2nd player\", game.utility(state, 2))"
      ],
      "execution_count": 6,
      "outputs": [
        {
          "output_type": "stream",
          "name": "stdout",
          "text": [
            "Player making move O\n",
            "_ _ _\n",
            "_ _ _\n",
            "_ _ _\n",
            "Player making move X\n",
            "_ _ _\n",
            "_ O _\n",
            "_ _ _\n",
            "Player making move O\n",
            "X _ _\n",
            "_ O _\n",
            "_ _ _\n",
            "Player making move X\n",
            "X _ _\n",
            "_ O _\n",
            "O _ _\n",
            "Player making move O\n",
            "X _ X\n",
            "_ O _\n",
            "O _ _\n",
            "Player making move X\n",
            "X O X\n",
            "_ O _\n",
            "O _ _\n",
            "Player making move O\n",
            "X O X\n",
            "_ O _\n",
            "O _ X\n",
            "Player making move X\n",
            "X O X\n",
            "_ O _\n",
            "O O X\n",
            "Reached terminal state? True\n",
            "Utility for the 1st player 1\n",
            "Utility for the 2nd player -1\n"
          ]
        }
      ]
    },
    {
      "cell_type": "markdown",
      "metadata": {
        "id": "FiW5GBDiU2Xk"
      },
      "source": [
        "Finally, in the cell below 1 plays suboptimally and loses."
      ]
    },
    {
      "cell_type": "code",
      "metadata": {
        "scrolled": true,
        "colab": {
          "base_uri": "https://localhost:8080/"
        },
        "id": "ZZTSU9BjU2Xk",
        "outputId": "2c2b8e11-d1fe-4fd8-8051-7d629a7a93eb"
      },
      "source": [
        "game = TicTacToe()\n",
        "state = game.initial_state\n",
        "game.print_state(state)\n",
        "\n",
        "for action in [2,4,6,0,7,8]:\n",
        "    assert action in game.actions(state)\n",
        "    assert not game.is_terminal(state)\n",
        "    state = game.result(state, action)\n",
        "    game.print_state(state)\n",
        "    \n",
        "print(\"Reached terminal state?\", game.is_terminal(state))\n",
        "print(\"Utility for the 1st player\", game.utility(state, 1))\n",
        "print(\"Utility for the 2nd player\", game.utility(state, 2))"
      ],
      "execution_count": 7,
      "outputs": [
        {
          "output_type": "stream",
          "name": "stdout",
          "text": [
            "Player making move O\n",
            "_ _ _\n",
            "_ _ _\n",
            "_ _ _\n",
            "Player making move X\n",
            "_ _ O\n",
            "_ _ _\n",
            "_ _ _\n",
            "Player making move O\n",
            "_ _ O\n",
            "_ X _\n",
            "_ _ _\n",
            "Player making move X\n",
            "_ _ O\n",
            "_ X _\n",
            "O _ _\n",
            "Player making move O\n",
            "X _ O\n",
            "_ X _\n",
            "O _ _\n",
            "Player making move X\n",
            "X _ O\n",
            "_ X _\n",
            "O O _\n",
            "Player making move O\n",
            "X _ O\n",
            "_ X _\n",
            "O O X\n",
            "Reached terminal state? True\n",
            "Utility for the 1st player -1\n",
            "Utility for the 2nd player 1\n"
          ]
        }
      ]
    },
    {
      "cell_type": "markdown",
      "metadata": {
        "id": "83eJBDwBU2Xl"
      },
      "source": [
        "## A judge and a dummy"
      ]
    },
    {
      "cell_type": "markdown",
      "metadata": {
        "id": "0tSJRMyeU2Xl"
      },
      "source": [
        "Lets define a common interface for a player: it is a callable (e.g., a function) receiving two arguments: \n",
        "\n",
        "1. The definition of a game as an object of the class `Game`\n",
        "2. A current state in which a move is to be made.\n",
        "\n",
        "The following function `dummy` follows this interface. It represents a player that always makes the first available move."
      ]
    },
    {
      "cell_type": "code",
      "metadata": {
        "id": "sD1FmLIVU2Xl"
      },
      "source": [
        "def dummy(game, state):\n",
        "    return game.actions(state)[0]"
      ],
      "execution_count": 8,
      "outputs": []
    },
    {
      "cell_type": "markdown",
      "metadata": {
        "id": "nRDCiia3U2Xm"
      },
      "source": [
        "To test players it is convenient to construct a general judge with three parameters:\n",
        "\n",
        "* `game` A definition of a game of type `Game`.\n",
        "* `player1` A callable following the interface described above representing the first player.\n",
        "* `player2` A callable following the interface described above representing the second player."
      ]
    },
    {
      "cell_type": "code",
      "metadata": {
        "id": "qOOChoi7U2Xm"
      },
      "source": [
        "def judge(game: Game, player1, player2):    \n",
        "    state = game.initial_state\n",
        "\n",
        "    while not game.is_terminal(state):\n",
        "        if game.player(state) == 1:\n",
        "            action = player1(game, state)\n",
        "        else:\n",
        "            action = player2(game, state)        \n",
        "        game.print_state(state)\n",
        "        print(\"Action:\", action)\n",
        "        print()\n",
        "        state = game.result(state, action)\n",
        "\n",
        "    game.print_state(state)\n",
        "    print(\"Reached terminal state?\", game.is_terminal(state))\n",
        "    u1 = game.utility(state, 1)\n",
        "    u2 = game.utility(state, 2)\n",
        "    print(\"Utility for the 1st player\", u1)\n",
        "    print(\"Utility for the 2nd player\", u2)\n",
        "    if u1 > u2:\n",
        "        print(\"Winner: 1st player\")\n",
        "    elif u1 < u2:\n",
        "        print(\"Winner: 2nd player\")\n",
        "    else:\n",
        "        print(\"Draw\")"
      ],
      "execution_count": 9,
      "outputs": []
    },
    {
      "cell_type": "markdown",
      "metadata": {
        "id": "S3qbRsW_U2Xm"
      },
      "source": [
        "Lets see how well two dummies compete against each other in the game of Tic-Tac-Toe."
      ]
    },
    {
      "cell_type": "code",
      "metadata": {
        "scrolled": true,
        "id": "dI9cjdUsU2Xn",
        "colab": {
          "base_uri": "https://localhost:8080/"
        },
        "outputId": "98a83293-8aaf-47f8-a36e-5cb7a1da1ced"
      },
      "source": [
        "judge(TicTacToe(), dummy, dummy)"
      ],
      "execution_count": 10,
      "outputs": [
        {
          "output_type": "stream",
          "name": "stdout",
          "text": [
            "Player making move O\n",
            "_ _ _\n",
            "_ _ _\n",
            "_ _ _\n",
            "Action: 0\n",
            "\n",
            "Player making move X\n",
            "O _ _\n",
            "_ _ _\n",
            "_ _ _\n",
            "Action: 1\n",
            "\n",
            "Player making move O\n",
            "O X _\n",
            "_ _ _\n",
            "_ _ _\n",
            "Action: 2\n",
            "\n",
            "Player making move X\n",
            "O X O\n",
            "_ _ _\n",
            "_ _ _\n",
            "Action: 3\n",
            "\n",
            "Player making move O\n",
            "O X O\n",
            "X _ _\n",
            "_ _ _\n",
            "Action: 4\n",
            "\n",
            "Player making move X\n",
            "O X O\n",
            "X O _\n",
            "_ _ _\n",
            "Action: 5\n",
            "\n",
            "Player making move O\n",
            "O X O\n",
            "X O X\n",
            "_ _ _\n",
            "Action: 6\n",
            "\n",
            "Player making move X\n",
            "O X O\n",
            "X O X\n",
            "O _ _\n",
            "Reached terminal state? True\n",
            "Utility for the 1st player 1\n",
            "Utility for the 2nd player -1\n",
            "Winner: 1st player\n"
          ]
        }
      ]
    },
    {
      "cell_type": "markdown",
      "metadata": {
        "id": "r5jeeBACU2Xn"
      },
      "source": [
        "## Task 1: Minimax algorithm\n",
        "\n",
        "Complete the following cell with an implementation of the mini-max algorithm. \n",
        "The function should follow the interface for a player described above and return the best move to be made in the given `state` under the rules defined by the `game`."
      ]
    },
    {
      "cell_type": "code",
      "metadata": {
        "id": "udc9AXGSU2Xn"
      },
      "source": [
        "import math\n",
        "def minimax(game: Game, state):\n",
        "    player = game.player(state)\n",
        "    move = None\n",
        "    def max_value(state):\n",
        "        if game.is_terminal(state):\n",
        "            return game.utility(state, player), None\n",
        "        v = - math.inf\n",
        "        for action in game.actions(state):\n",
        "            new_v, new_move = min_value(game.result(state, action))\n",
        "            if new_v > v:\n",
        "                v, move = new_v, action\n",
        "        return v, move\n",
        "    def min_value(state):\n",
        "        if game.is_terminal(state):\n",
        "            return game.utility(state, player), None\n",
        "        v = math.inf\n",
        "        for action in game.actions(state):\n",
        "            new_v, new_move = max_value(game.result(state, action))\n",
        "            if new_v < v:\n",
        "                v, move = new_v, action\n",
        "        return v, move\n",
        "    value, move = max_value(state)\n",
        "    return move"
      ],
      "execution_count": 11,
      "outputs": []
    },
    {
      "cell_type": "markdown",
      "metadata": {
        "id": "lakILj5JU2Xp"
      },
      "source": [
        "Lets test your implementation against dummy and against itself. It should always win with dummy (dummy is deterministic and suboptimal) and it should draw with itself (Tic-Tac-Toe is a solved game and draw is the best outcome for optimal players).\n",
        "We prefix the calls to `judge` with `%time` to measure time spent in the call. This will be useful to compare the performance of minimax with alpha-beta."
      ]
    },
    {
      "cell_type": "code",
      "metadata": {
        "scrolled": true,
        "colab": {
          "base_uri": "https://localhost:8080/"
        },
        "id": "idgRjnWnU2Xp",
        "outputId": "9113a2a6-2b69-48e1-8c5c-159682a463eb"
      },
      "source": [
        "%time judge(TicTacToe(), minimax, dummy)"
      ],
      "execution_count": 12,
      "outputs": [
        {
          "output_type": "stream",
          "name": "stdout",
          "text": [
            "Player making move O\n",
            "_ _ _\n",
            "_ _ _\n",
            "_ _ _\n",
            "Action: 0\n",
            "\n",
            "Player making move X\n",
            "O _ _\n",
            "_ _ _\n",
            "_ _ _\n",
            "Action: 1\n",
            "\n",
            "Player making move O\n",
            "O X _\n",
            "_ _ _\n",
            "_ _ _\n",
            "Action: 3\n",
            "\n",
            "Player making move X\n",
            "O X _\n",
            "O _ _\n",
            "_ _ _\n",
            "Action: 2\n",
            "\n",
            "Player making move O\n",
            "O X X\n",
            "O _ _\n",
            "_ _ _\n",
            "Action: 4\n",
            "\n",
            "Player making move X\n",
            "O X X\n",
            "O O _\n",
            "_ _ _\n",
            "Action: 5\n",
            "\n",
            "Player making move O\n",
            "O X X\n",
            "O O X\n",
            "_ _ _\n",
            "Action: 6\n",
            "\n",
            "Player making move X\n",
            "O X X\n",
            "O O X\n",
            "O _ _\n",
            "Reached terminal state? True\n",
            "Utility for the 1st player 1\n",
            "Utility for the 2nd player -1\n",
            "Winner: 1st player\n",
            "CPU times: user 3.74 s, sys: 25.2 ms, total: 3.76 s\n",
            "Wall time: 3.77 s\n"
          ]
        }
      ]
    },
    {
      "cell_type": "code",
      "metadata": {
        "scrolled": true,
        "colab": {
          "base_uri": "https://localhost:8080/"
        },
        "id": "i1_5kQfHU2Xq",
        "outputId": "a7dda0fc-0ddf-48df-ccee-f2293fa4a3fd"
      },
      "source": [
        "%time judge(TicTacToe(), dummy, minimax)"
      ],
      "execution_count": 13,
      "outputs": [
        {
          "output_type": "stream",
          "name": "stdout",
          "text": [
            "Player making move O\n",
            "_ _ _\n",
            "_ _ _\n",
            "_ _ _\n",
            "Action: 0\n",
            "\n",
            "Player making move X\n",
            "O _ _\n",
            "_ _ _\n",
            "_ _ _\n",
            "Action: 4\n",
            "\n",
            "Player making move O\n",
            "O _ _\n",
            "_ X _\n",
            "_ _ _\n",
            "Action: 1\n",
            "\n",
            "Player making move X\n",
            "O O _\n",
            "_ X _\n",
            "_ _ _\n",
            "Action: 2\n",
            "\n",
            "Player making move O\n",
            "O O X\n",
            "_ X _\n",
            "_ _ _\n",
            "Action: 3\n",
            "\n",
            "Player making move X\n",
            "O O X\n",
            "O X _\n",
            "_ _ _\n",
            "Action: 6\n",
            "\n",
            "Player making move O\n",
            "O O X\n",
            "O X _\n",
            "X _ _\n",
            "Reached terminal state? True\n",
            "Utility for the 1st player -1\n",
            "Utility for the 2nd player 1\n",
            "Winner: 2nd player\n",
            "CPU times: user 452 ms, sys: 15 ms, total: 467 ms\n",
            "Wall time: 465 ms\n"
          ]
        }
      ]
    },
    {
      "cell_type": "code",
      "metadata": {
        "scrolled": true,
        "colab": {
          "base_uri": "https://localhost:8080/"
        },
        "id": "x_qMP_JlU2Xq",
        "outputId": "1e0b718c-29f4-4d44-fbc6-1268c24b8431"
      },
      "source": [
        "%time judge(TicTacToe(), minimax, minimax)"
      ],
      "execution_count": 14,
      "outputs": [
        {
          "output_type": "stream",
          "name": "stdout",
          "text": [
            "Player making move O\n",
            "_ _ _\n",
            "_ _ _\n",
            "_ _ _\n",
            "Action: 0\n",
            "\n",
            "Player making move X\n",
            "O _ _\n",
            "_ _ _\n",
            "_ _ _\n",
            "Action: 4\n",
            "\n",
            "Player making move O\n",
            "O _ _\n",
            "_ X _\n",
            "_ _ _\n",
            "Action: 1\n",
            "\n",
            "Player making move X\n",
            "O O _\n",
            "_ X _\n",
            "_ _ _\n",
            "Action: 2\n",
            "\n",
            "Player making move O\n",
            "O O X\n",
            "_ X _\n",
            "_ _ _\n",
            "Action: 6\n",
            "\n",
            "Player making move X\n",
            "O O X\n",
            "_ X _\n",
            "O _ _\n",
            "Action: 3\n",
            "\n",
            "Player making move O\n",
            "O O X\n",
            "X X _\n",
            "O _ _\n",
            "Action: 5\n",
            "\n",
            "Player making move X\n",
            "O O X\n",
            "X X O\n",
            "O _ _\n",
            "Action: 7\n",
            "\n",
            "Player making move O\n",
            "O O X\n",
            "X X O\n",
            "O X _\n",
            "Action: 8\n",
            "\n",
            "Player making move X\n",
            "O O X\n",
            "X X O\n",
            "O X O\n",
            "Reached terminal state? True\n",
            "Utility for the 1st player 0\n",
            "Utility for the 2nd player 0\n",
            "Draw\n",
            "CPU times: user 4 s, sys: 21.4 ms, total: 4.02 s\n",
            "Wall time: 4.02 s\n"
          ]
        }
      ]
    },
    {
      "cell_type": "markdown",
      "metadata": {
        "id": "uFB2xh1DU2Xq"
      },
      "source": [
        "## Task 2: Alpha-beta\n",
        "\n",
        "Mini-max is an optimal solution, but not the most efficient. Complete the following cell of code implementing the alpha-beta algorithm.\n",
        "The function should follow the interface for a player described above and return the best move to be made in the given `state` under the rules defined by the `game`."
      ]
    },
    {
      "cell_type": "code",
      "metadata": {
        "id": "g1moOqyxnpPK"
      },
      "source": [
        "def alphabeta(game: Game, state):\n",
        "    player = game.player(state)\n",
        "    def max_value(state, alpha, beta):\n",
        "        if game.is_terminal(state):\n",
        "            return game.utility(state, player), None\n",
        "        v = - math.inf\n",
        "        for action in game.actions(state):\n",
        "            new_v = min_value(game.result(state, action), alpha, beta)[0]\n",
        "            if new_v > v:\n",
        "                move, v = action, new_v\n",
        "            if v >= beta:\n",
        "                return v, move\n",
        "            alpha = max(alpha, v)\n",
        "        return v, move\n",
        "    def min_value(state, alpha, beta):\n",
        "        if game.is_terminal(state):\n",
        "            return game.utility(state, player), None\n",
        "        v = math.inf\n",
        "        for action in game.actions(state):\n",
        "            new_v = max_value(game.result(state, action), alpha, beta)[0]\n",
        "            if new_v < v:\n",
        "                move, v = action, new_v\n",
        "            if v <= alpha:\n",
        "                return v, move\n",
        "            beta = min(beta, v)\n",
        "        return v, move\n",
        "    value, move = max_value(state, -math.inf, math.inf)\n",
        "    return move"
      ],
      "execution_count": 15,
      "outputs": []
    },
    {
      "cell_type": "markdown",
      "metadata": {
        "id": "XaCUg7kTU2Xr"
      },
      "source": [
        "Again, lets test your implementation against dummy and against itself. It should behave in exactly the same way as minimax, but be faster."
      ]
    },
    {
      "cell_type": "code",
      "metadata": {
        "scrolled": true,
        "colab": {
          "base_uri": "https://localhost:8080/"
        },
        "id": "27kdLS9lU2Xr",
        "outputId": "501c1bde-1fff-4d32-f59e-ccb599b73e33"
      },
      "source": [
        "%time judge(TicTacToe(), alphabeta, dummy)"
      ],
      "execution_count": 16,
      "outputs": [
        {
          "output_type": "stream",
          "name": "stdout",
          "text": [
            "Player making move O\n",
            "_ _ _\n",
            "_ _ _\n",
            "_ _ _\n",
            "Action: 0\n",
            "\n",
            "Player making move X\n",
            "O _ _\n",
            "_ _ _\n",
            "_ _ _\n",
            "Action: 1\n",
            "\n",
            "Player making move O\n",
            "O X _\n",
            "_ _ _\n",
            "_ _ _\n",
            "Action: 3\n",
            "\n",
            "Player making move X\n",
            "O X _\n",
            "O _ _\n",
            "_ _ _\n",
            "Action: 2\n",
            "\n",
            "Player making move O\n",
            "O X X\n",
            "O _ _\n",
            "_ _ _\n",
            "Action: 4\n",
            "\n",
            "Player making move X\n",
            "O X X\n",
            "O O _\n",
            "_ _ _\n",
            "Action: 5\n",
            "\n",
            "Player making move O\n",
            "O X X\n",
            "O O X\n",
            "_ _ _\n",
            "Action: 6\n",
            "\n",
            "Player making move X\n",
            "O X X\n",
            "O O X\n",
            "O _ _\n",
            "Reached terminal state? True\n",
            "Utility for the 1st player 1\n",
            "Utility for the 2nd player -1\n",
            "Winner: 1st player\n",
            "CPU times: user 190 ms, sys: 16.5 ms, total: 206 ms\n",
            "Wall time: 192 ms\n"
          ]
        }
      ]
    },
    {
      "cell_type": "code",
      "metadata": {
        "scrolled": true,
        "id": "OIiitRveU2Xs",
        "colab": {
          "base_uri": "https://localhost:8080/"
        },
        "outputId": "2ec59888-b58e-4ea6-af65-97b0dd8cd177"
      },
      "source": [
        "%time judge(TicTacToe(), dummy, alphabeta)"
      ],
      "execution_count": 17,
      "outputs": [
        {
          "output_type": "stream",
          "name": "stdout",
          "text": [
            "Player making move O\n",
            "_ _ _\n",
            "_ _ _\n",
            "_ _ _\n",
            "Action: 0\n",
            "\n",
            "Player making move X\n",
            "O _ _\n",
            "_ _ _\n",
            "_ _ _\n",
            "Action: 4\n",
            "\n",
            "Player making move O\n",
            "O _ _\n",
            "_ X _\n",
            "_ _ _\n",
            "Action: 1\n",
            "\n",
            "Player making move X\n",
            "O O _\n",
            "_ X _\n",
            "_ _ _\n",
            "Action: 2\n",
            "\n",
            "Player making move O\n",
            "O O X\n",
            "_ X _\n",
            "_ _ _\n",
            "Action: 3\n",
            "\n",
            "Player making move X\n",
            "O O X\n",
            "O X _\n",
            "_ _ _\n",
            "Action: 6\n",
            "\n",
            "Player making move O\n",
            "O O X\n",
            "O X _\n",
            "X _ _\n",
            "Reached terminal state? True\n",
            "Utility for the 1st player -1\n",
            "Utility for the 2nd player 1\n",
            "Winner: 2nd player\n",
            "CPU times: user 32.9 ms, sys: 3.09 ms, total: 36 ms\n",
            "Wall time: 42.3 ms\n"
          ]
        }
      ]
    },
    {
      "cell_type": "code",
      "metadata": {
        "scrolled": true,
        "id": "cPOgIFX2U2Xs",
        "colab": {
          "base_uri": "https://localhost:8080/"
        },
        "outputId": "41c1f113-1fe5-428a-c62c-d34848428fa8"
      },
      "source": [
        "%time judge(TicTacToe(), alphabeta, alphabeta)"
      ],
      "execution_count": 18,
      "outputs": [
        {
          "output_type": "stream",
          "name": "stdout",
          "text": [
            "Player making move O\n",
            "_ _ _\n",
            "_ _ _\n",
            "_ _ _\n",
            "Action: 0\n",
            "\n",
            "Player making move X\n",
            "O _ _\n",
            "_ _ _\n",
            "_ _ _\n",
            "Action: 4\n",
            "\n",
            "Player making move O\n",
            "O _ _\n",
            "_ X _\n",
            "_ _ _\n",
            "Action: 1\n",
            "\n",
            "Player making move X\n",
            "O O _\n",
            "_ X _\n",
            "_ _ _\n",
            "Action: 2\n",
            "\n",
            "Player making move O\n",
            "O O X\n",
            "_ X _\n",
            "_ _ _\n",
            "Action: 6\n",
            "\n",
            "Player making move X\n",
            "O O X\n",
            "_ X _\n",
            "O _ _\n",
            "Action: 3\n",
            "\n",
            "Player making move O\n",
            "O O X\n",
            "X X _\n",
            "O _ _\n",
            "Action: 5\n",
            "\n",
            "Player making move X\n",
            "O O X\n",
            "X X O\n",
            "O _ _\n",
            "Action: 7\n",
            "\n",
            "Player making move O\n",
            "O O X\n",
            "X X O\n",
            "O X _\n",
            "Action: 8\n",
            "\n",
            "Player making move X\n",
            "O O X\n",
            "X X O\n",
            "O X O\n",
            "Reached terminal state? True\n",
            "Utility for the 1st player 0\n",
            "Utility for the 2nd player 0\n",
            "Draw\n",
            "CPU times: user 196 ms, sys: 5.37 ms, total: 201 ms\n",
            "Wall time: 198 ms\n"
          ]
        }
      ]
    },
    {
      "cell_type": "markdown",
      "metadata": {
        "id": "VqToaevCU2Xt"
      },
      "source": [
        "## Cats and dogs\n",
        "\n",
        "The following cell defines the rules for the game *Cats and dogs* AKA *Snort*. See https://www.di.fc.ul.pt/~jpn/gv/catdogs.htm for a complete description of rules.\n",
        "This implementation is somewhat more flexible: instead of using a board of fixed size, the size of a board is defined by the constructor parameter `n`."
      ]
    },
    {
      "cell_type": "code",
      "metadata": {
        "id": "vysD1iyZU2Xt"
      },
      "source": [
        "class CatsAndDogs:\n",
        "    def __init__(self, n):\n",
        "        self.n = n\n",
        "    \n",
        "    @property\n",
        "    def initial_state(self):\n",
        "        return (1, ((0,)*self.n,)*self.n)\n",
        "    \n",
        "    def player(self, state):\n",
        "        return state[0]\n",
        "                \n",
        "    def _adj(self, x, y):                \n",
        "        for dx, dy in ((0, 1), (0, -1), (1, 0), (-1, 0)):\n",
        "            nx = x + dx\n",
        "            ny = y + dy\n",
        "            if nx >= 0 and ny >= 0 and nx < self.n and ny < self.n:\n",
        "                yield (nx, ny)\n",
        "        \n",
        "    def actions(self, state):\n",
        "        board = state[1]\n",
        "        opp = opponent(self.player(state))\n",
        "        actions = []\n",
        "        for x in range(self.n):\n",
        "            for y in range(self.n):\n",
        "                if board[x][y] == 0 and all([board[nx][ny] != opp for nx, ny in self._adj(x, y)]):\n",
        "                    actions.append((x, y))\n",
        "        return actions\n",
        "        \n",
        "    def result(self, state, action):\n",
        "        x, y = action\n",
        "        player, board = state\n",
        "        col = board[x][:y] + (player,) + board[x][y+1:]\n",
        "        board = board[:x] + (col,) + board[x+1:]\n",
        "        return (opponent(player), board)\n",
        "        \n",
        "    def is_terminal(self, state):\n",
        "        return len(self.actions(state)) == 0\n",
        "        \n",
        "    def utility(self, state, player):\n",
        "        assert self.is_terminal(state)\n",
        "        if self.player(state) == player:\n",
        "            return -1\n",
        "        else:\n",
        "            return 1\n",
        "        \n",
        "    def print_state(self, state):\n",
        "        print(\"Player making move\", \"_\\u25CB\\u25CF\"[state[0]])\n",
        "        for row in state[1]:\n",
        "            print(*[\"_\\u25CB\\u25CF\"[v] for v in row])        "
      ],
      "execution_count": 19,
      "outputs": []
    },
    {
      "cell_type": "markdown",
      "metadata": {
        "id": "PTVFu_A9U2Xt"
      },
      "source": [
        "Lets see how well alpha-beta fares on a board of 3x3. "
      ]
    },
    {
      "cell_type": "code",
      "metadata": {
        "id": "ZWFdroq6U2Xt",
        "colab": {
          "base_uri": "https://localhost:8080/"
        },
        "outputId": "1678b05f-2e08-4d64-eb48-f1ce72ee77c3"
      },
      "source": [
        "judge(CatsAndDogs(3), alphabeta, alphabeta)"
      ],
      "execution_count": 20,
      "outputs": [
        {
          "output_type": "stream",
          "name": "stdout",
          "text": [
            "Player making move ○\n",
            "_ _ _\n",
            "_ _ _\n",
            "_ _ _\n",
            "Action: (0, 0)\n",
            "\n",
            "Player making move ●\n",
            "○ _ _\n",
            "_ _ _\n",
            "_ _ _\n",
            "Action: (0, 2)\n",
            "\n",
            "Player making move ○\n",
            "○ _ ●\n",
            "_ _ _\n",
            "_ _ _\n",
            "Action: (1, 1)\n",
            "\n",
            "Player making move ●\n",
            "○ _ ●\n",
            "_ ○ _\n",
            "_ _ _\n",
            "Action: (2, 0)\n",
            "\n",
            "Player making move ○\n",
            "○ _ ●\n",
            "_ ○ _\n",
            "● _ _\n",
            "Action: (2, 2)\n",
            "\n",
            "Player making move ●\n",
            "○ _ ●\n",
            "_ ○ _\n",
            "● _ ○\n",
            "Reached terminal state? True\n",
            "Utility for the 1st player 1\n",
            "Utility for the 2nd player -1\n",
            "Winner: 1st player\n"
          ]
        }
      ]
    },
    {
      "cell_type": "markdown",
      "metadata": {
        "id": "5w3AUBy7U2Xt"
      },
      "source": [
        "You may be patient enough to test it on a board of 4x4."
      ]
    },
    {
      "cell_type": "code",
      "metadata": {
        "id": "u64sY0c1U2Xt",
        "colab": {
          "base_uri": "https://localhost:8080/"
        },
        "outputId": "3c227dbe-070d-40ff-a616-37939c387854"
      },
      "source": [
        "%time judge(CatsAndDogs(4), alphabeta, alphabeta)"
      ],
      "execution_count": 21,
      "outputs": [
        {
          "output_type": "stream",
          "name": "stdout",
          "text": [
            "Player making move ○\n",
            "_ _ _ _\n",
            "_ _ _ _\n",
            "_ _ _ _\n",
            "_ _ _ _\n",
            "Action: (0, 0)\n",
            "\n",
            "Player making move ●\n",
            "○ _ _ _\n",
            "_ _ _ _\n",
            "_ _ _ _\n",
            "_ _ _ _\n",
            "Action: (1, 1)\n",
            "\n",
            "Player making move ○\n",
            "○ _ _ _\n",
            "_ ● _ _\n",
            "_ _ _ _\n",
            "_ _ _ _\n",
            "Action: (0, 2)\n",
            "\n",
            "Player making move ●\n",
            "○ _ ○ _\n",
            "_ ● _ _\n",
            "_ _ _ _\n",
            "_ _ _ _\n",
            "Action: (1, 3)\n",
            "\n",
            "Player making move ○\n",
            "○ _ ○ _\n",
            "_ ● _ ●\n",
            "_ _ _ _\n",
            "_ _ _ _\n",
            "Action: (2, 0)\n",
            "\n",
            "Player making move ●\n",
            "○ _ ○ _\n",
            "_ ● _ ●\n",
            "○ _ _ _\n",
            "_ _ _ _\n",
            "Action: (2, 2)\n",
            "\n",
            "Player making move ○\n",
            "○ _ ○ _\n",
            "_ ● _ ●\n",
            "○ _ ● _\n",
            "_ _ _ _\n",
            "Action: (3, 0)\n",
            "\n",
            "Player making move ●\n",
            "○ _ ○ _\n",
            "_ ● _ ●\n",
            "○ _ ● _\n",
            "○ _ _ _\n",
            "Action: (2, 3)\n",
            "\n",
            "Player making move ○\n",
            "○ _ ○ _\n",
            "_ ● _ ●\n",
            "○ _ ● ●\n",
            "○ _ _ _\n",
            "Action: (3, 1)\n",
            "\n",
            "Player making move ●\n",
            "○ _ ○ _\n",
            "_ ● _ ●\n",
            "○ _ ● ●\n",
            "○ ○ _ _\n",
            "Action: (3, 3)\n",
            "\n",
            "Player making move ○\n",
            "○ _ ○ _\n",
            "_ ● _ ●\n",
            "○ _ ● ●\n",
            "○ ○ _ ●\n",
            "Reached terminal state? True\n",
            "Utility for the 1st player -1\n",
            "Utility for the 2nd player 1\n",
            "Winner: 2nd player\n",
            "CPU times: user 32.5 s, sys: 124 ms, total: 32.6 s\n",
            "Wall time: 32.7 s\n"
          ]
        }
      ]
    },
    {
      "cell_type": "markdown",
      "metadata": {
        "id": "ux_zO5YkU2Xu"
      },
      "source": [
        "## Task 3: Alpha-beta with limited depth and heuristic evaluation"
      ]
    },
    {
      "cell_type": "markdown",
      "metadata": {
        "id": "COzQbT6eU2Xu"
      },
      "source": [
        "Alpha-beta is a complete and optimal algorithm, but still too slow.\n",
        "In practice it is used as a heuristic algorithm: sometimes searching is terminated before reaching a terminal node and some heuristic evaluation of the reached non-terminal state is returned instead of the utility of a terminal state.\n",
        "How to evaluate non-terminal states and how to decide when to terminate search is an extremely rich topic.\n",
        "\n",
        "Complete the cells below:\n",
        "\n",
        "* Implement the function `evaluate` in `CatsAndDogsWithHeuristic` such that it returns some evaluation of the given `state` from the point of view of the given `player`. The more promising the state for the player, the higher value should be returned.\n",
        "* Implement the function `__call__` in `HeuristicAlphaBeta` such that it is an implementation of the alpha-beta algorithm, but should the recursion depth reach `self.max_depth` the heuristic evaluation should be returned instead of descending further in the game tree.\n",
        "\n",
        "Minimax and alpha-beta are game-agnostic and thus for them states are opaque. On the other hand `evaluate` is not game-agnostic, but it is also not (strictly speaking) a part of the rules of a game. Still, it needs to access the internals of the state and in the provided implementation of `CatsAndDogs` the state is a 2-tuple:\n",
        "\n",
        "1. The id of a player to make a move\n",
        "2. The representation of a board as a tuple of tuples, forming an `self.n` $\\times$ `self.n` array. Each element of this tuple of tuples is either:\n",
        "   * 0 - an empty cell\n",
        "   * 1 - a stone of player 1\n",
        "   * 2 - a stone of player 2"
      ]
    },
    {
      "cell_type": "code",
      "metadata": {
        "id": "1sFSkDUVU2Xu"
      },
      "source": [
        "class CatsAndDogsWithHeuristic(CatsAndDogs):\n",
        "    def evaluate(self, state, player):\n",
        "        player_state = (player, state[1])\n",
        "        number = len(self.actions(player_state))\n",
        "        return number"
      ],
      "execution_count": 22,
      "outputs": []
    },
    {
      "cell_type": "code",
      "metadata": {
        "id": "VR3eY9xXU2Xu"
      },
      "source": [
        "class HeuristicAlphaBeta:\n",
        "    def __init__(self, max_depth):\n",
        "        self.max_depth = max_depth\n",
        "    def __call__(self, game, state):\n",
        "        player = game.player(state)\n",
        "        def max_value(state, alpha, beta, depth):\n",
        "            if game.is_terminal(state) or depth > self.max_depth:\n",
        "                return game.evaluate(state, player), None\n",
        "            v = -math.inf\n",
        "            for action in game.actions(state):\n",
        "                new_v = min_value(game.result(state, action), alpha, beta, depth + 1)[0]\n",
        "                if new_v > v:\n",
        "                    move, v = action, new_v\n",
        "                if v >= beta:\n",
        "                    return v, move\n",
        "                alpha = max(alpha, v)\n",
        "            return v, move\n",
        "        def min_value(state, alpha, beta, depth):\n",
        "            if game.is_terminal(state) or depth > self.max_depth:\n",
        "                return game.evaluate(state, player), None\n",
        "            v = math.inf\n",
        "            for action in game.actions(state):\n",
        "                new_v = max_value(game.result(state, action), alpha, beta, depth + 1)[0]\n",
        "                if new_v < v:\n",
        "                    move, v = action, new_v\n",
        "                if v <= alpha:\n",
        "                    return v, move\n",
        "                beta = min(beta, v)\n",
        "            return v, move\n",
        "        value, move = max_value(state, -100, 100, 0)\n",
        "        return move"
      ],
      "execution_count": 23,
      "outputs": []
    },
    {
      "cell_type": "markdown",
      "metadata": {
        "id": "pJzBt2_NU2Xu"
      },
      "source": [
        "Lets test your implementations in three scenarios on a board of $4\\times 4$:\n",
        "\n",
        "* Alpha-beta at the depth of 3 playing agains alpha-beta at the depth of 5.\n",
        "* In reverse: Alpha-beta at the depth of 5 playing agains alpha-beta at the depth of 6.\n",
        "* Alpha-beta at the depth of 6 playing against alpha-beta at the depth of 5.\n",
        "* Alpha-beta at the depth of 6 playing against optimal alpha-beta.\n",
        "\n",
        "If your implementation of alpha-beta is good and your heuristic evaluation are good, the player with the deeper depth should win.\n",
        "Of course in the last case the optimal alpha-beta should win."
      ]
    },
    {
      "cell_type": "code",
      "metadata": {
        "scrolled": true,
        "id": "yZz1tB3OU2Xu",
        "colab": {
          "base_uri": "https://localhost:8080/"
        },
        "outputId": "e0f5acf2-c3d1-45ea-e1fe-45d14357c4e8"
      },
      "source": [
        "judge(CatsAndDogsWithHeuristic(4), HeuristicAlphaBeta(3), HeuristicAlphaBeta(5))"
      ],
      "execution_count": 24,
      "outputs": [
        {
          "output_type": "stream",
          "name": "stdout",
          "text": [
            "Player making move ○\n",
            "_ _ _ _\n",
            "_ _ _ _\n",
            "_ _ _ _\n",
            "_ _ _ _\n",
            "Action: (0, 0)\n",
            "\n",
            "Player making move ●\n",
            "○ _ _ _\n",
            "_ _ _ _\n",
            "_ _ _ _\n",
            "_ _ _ _\n",
            "Action: (2, 2)\n",
            "\n",
            "Player making move ○\n",
            "○ _ _ _\n",
            "_ _ _ _\n",
            "_ _ ● _\n",
            "_ _ _ _\n",
            "Action: (0, 1)\n",
            "\n",
            "Player making move ●\n",
            "○ ○ _ _\n",
            "_ _ _ _\n",
            "_ _ ● _\n",
            "_ _ _ _\n",
            "Action: (0, 3)\n",
            "\n",
            "Player making move ○\n",
            "○ ○ _ ●\n",
            "_ _ _ _\n",
            "_ _ ● _\n",
            "_ _ _ _\n",
            "Action: (2, 0)\n",
            "\n",
            "Player making move ●\n",
            "○ ○ _ ●\n",
            "_ _ _ _\n",
            "○ _ ● _\n",
            "_ _ _ _\n",
            "Action: (3, 2)\n",
            "\n",
            "Player making move ○\n",
            "○ ○ _ ●\n",
            "_ _ _ _\n",
            "○ _ ● _\n",
            "_ _ ● _\n",
            "Action: (1, 0)\n",
            "\n",
            "Player making move ●\n",
            "○ ○ _ ●\n",
            "○ _ _ _\n",
            "○ _ ● _\n",
            "_ _ ● _\n",
            "Action: (1, 2)\n",
            "\n",
            "Player making move ○\n",
            "○ ○ _ ●\n",
            "○ _ ● _\n",
            "○ _ ● _\n",
            "_ _ ● _\n",
            "Action: (3, 0)\n",
            "\n",
            "Player making move ●\n",
            "○ ○ _ ●\n",
            "○ _ ● _\n",
            "○ _ ● _\n",
            "○ _ ● _\n",
            "Action: (1, 3)\n",
            "\n",
            "Player making move ○\n",
            "○ ○ _ ●\n",
            "○ _ ● ●\n",
            "○ _ ● _\n",
            "○ _ ● _\n",
            "Reached terminal state? True\n",
            "Utility for the 1st player -1\n",
            "Utility for the 2nd player 1\n",
            "Winner: 2nd player\n"
          ]
        }
      ]
    },
    {
      "cell_type": "code",
      "metadata": {
        "scrolled": true,
        "id": "JIfILnXNU2Xv",
        "colab": {
          "base_uri": "https://localhost:8080/"
        },
        "outputId": "a238f62d-636b-4807-b718-1efe058859b8"
      },
      "source": [
        "judge(CatsAndDogsWithHeuristic(4), HeuristicAlphaBeta(5), HeuristicAlphaBeta(3))"
      ],
      "execution_count": 25,
      "outputs": [
        {
          "output_type": "stream",
          "name": "stdout",
          "text": [
            "Player making move ○\n",
            "_ _ _ _\n",
            "_ _ _ _\n",
            "_ _ _ _\n",
            "_ _ _ _\n",
            "Action: (0, 1)\n",
            "\n",
            "Player making move ●\n",
            "_ ○ _ _\n",
            "_ _ _ _\n",
            "_ _ _ _\n",
            "_ _ _ _\n",
            "Action: (2, 1)\n",
            "\n",
            "Player making move ○\n",
            "_ ○ _ _\n",
            "_ _ _ _\n",
            "_ ● _ _\n",
            "_ _ _ _\n",
            "Action: (1, 3)\n",
            "\n",
            "Player making move ●\n",
            "_ ○ _ _\n",
            "_ _ _ ○\n",
            "_ ● _ _\n",
            "_ _ _ _\n",
            "Action: (3, 1)\n",
            "\n",
            "Player making move ○\n",
            "_ ○ _ _\n",
            "_ _ _ ○\n",
            "_ ● _ _\n",
            "_ ● _ _\n",
            "Action: (1, 0)\n",
            "\n",
            "Player making move ●\n",
            "_ ○ _ _\n",
            "○ _ _ ○\n",
            "_ ● _ _\n",
            "_ ● _ _\n",
            "Action: (3, 3)\n",
            "\n",
            "Player making move ○\n",
            "_ ○ _ _\n",
            "○ _ _ ○\n",
            "_ ● _ _\n",
            "_ ● _ ●\n",
            "Action: (1, 2)\n",
            "\n",
            "Player making move ●\n",
            "_ ○ _ _\n",
            "○ _ ○ ○\n",
            "_ ● _ _\n",
            "_ ● _ ●\n",
            "Action: (3, 0)\n",
            "\n",
            "Player making move ○\n",
            "_ ○ _ _\n",
            "○ _ ○ ○\n",
            "_ ● _ _\n",
            "● ● _ ●\n",
            "Action: (0, 0)\n",
            "\n",
            "Player making move ●\n",
            "○ ○ _ _\n",
            "○ _ ○ ○\n",
            "_ ● _ _\n",
            "● ● _ ●\n",
            "Action: (3, 2)\n",
            "\n",
            "Player making move ○\n",
            "○ ○ _ _\n",
            "○ _ ○ ○\n",
            "_ ● _ _\n",
            "● ● ● ●\n",
            "Action: (0, 2)\n",
            "\n",
            "Player making move ●\n",
            "○ ○ ○ _\n",
            "○ _ ○ ○\n",
            "_ ● _ _\n",
            "● ● ● ●\n",
            "Reached terminal state? True\n",
            "Utility for the 1st player 1\n",
            "Utility for the 2nd player -1\n",
            "Winner: 1st player\n"
          ]
        }
      ]
    },
    {
      "cell_type": "code",
      "metadata": {
        "scrolled": true,
        "id": "Kcm7y1ZMU2Xv",
        "colab": {
          "base_uri": "https://localhost:8080/"
        },
        "outputId": "6a047783-bfd5-4446-94f6-c1d70f1d6f10"
      },
      "source": [
        "judge(CatsAndDogsWithHeuristic(4), HeuristicAlphaBeta(6), HeuristicAlphaBeta(5))"
      ],
      "execution_count": 26,
      "outputs": [
        {
          "output_type": "stream",
          "name": "stdout",
          "text": [
            "Player making move ○\n",
            "_ _ _ _\n",
            "_ _ _ _\n",
            "_ _ _ _\n",
            "_ _ _ _\n",
            "Action: (0, 1)\n",
            "\n",
            "Player making move ●\n",
            "_ ○ _ _\n",
            "_ _ _ _\n",
            "_ _ _ _\n",
            "_ _ _ _\n",
            "Action: (2, 1)\n",
            "\n",
            "Player making move ○\n",
            "_ ○ _ _\n",
            "_ _ _ _\n",
            "_ ● _ _\n",
            "_ _ _ _\n",
            "Action: (1, 3)\n",
            "\n",
            "Player making move ●\n",
            "_ ○ _ _\n",
            "_ _ _ ○\n",
            "_ ● _ _\n",
            "_ _ _ _\n",
            "Action: (3, 1)\n",
            "\n",
            "Player making move ○\n",
            "_ ○ _ _\n",
            "_ _ _ ○\n",
            "_ ● _ _\n",
            "_ ● _ _\n",
            "Action: (1, 0)\n",
            "\n",
            "Player making move ●\n",
            "_ ○ _ _\n",
            "○ _ _ ○\n",
            "_ ● _ _\n",
            "_ ● _ _\n",
            "Action: (2, 2)\n",
            "\n",
            "Player making move ○\n",
            "_ ○ _ _\n",
            "○ _ _ ○\n",
            "_ ● ● _\n",
            "_ ● _ _\n",
            "Action: (3, 3)\n",
            "\n",
            "Player making move ●\n",
            "_ ○ _ _\n",
            "○ _ _ ○\n",
            "_ ● ● _\n",
            "_ ● _ ○\n",
            "Action: (3, 0)\n",
            "\n",
            "Player making move ○\n",
            "_ ○ _ _\n",
            "○ _ _ ○\n",
            "_ ● ● _\n",
            "● ● _ ○\n",
            "Action: (0, 0)\n",
            "\n",
            "Player making move ●\n",
            "○ ○ _ _\n",
            "○ _ _ ○\n",
            "_ ● ● _\n",
            "● ● _ ○\n",
            "Reached terminal state? True\n",
            "Utility for the 1st player 1\n",
            "Utility for the 2nd player -1\n",
            "Winner: 1st player\n"
          ]
        }
      ]
    },
    {
      "cell_type": "code",
      "metadata": {
        "scrolled": true,
        "id": "i4BU5-i2U2Xv",
        "colab": {
          "base_uri": "https://localhost:8080/"
        },
        "outputId": "a296e45a-bb07-4dab-862b-e902145d09d3"
      },
      "source": [
        "judge(CatsAndDogsWithHeuristic(4), HeuristicAlphaBeta(6), alphabeta)"
      ],
      "execution_count": 27,
      "outputs": [
        {
          "output_type": "stream",
          "name": "stdout",
          "text": [
            "Player making move ○\n",
            "_ _ _ _\n",
            "_ _ _ _\n",
            "_ _ _ _\n",
            "_ _ _ _\n",
            "Action: (0, 1)\n",
            "\n",
            "Player making move ●\n",
            "_ ○ _ _\n",
            "_ _ _ _\n",
            "_ _ _ _\n",
            "_ _ _ _\n",
            "Action: (3, 2)\n",
            "\n",
            "Player making move ○\n",
            "_ ○ _ _\n",
            "_ _ _ _\n",
            "_ _ _ _\n",
            "_ _ ● _\n",
            "Action: (0, 2)\n",
            "\n",
            "Player making move ●\n",
            "_ ○ ○ _\n",
            "_ _ _ _\n",
            "_ _ _ _\n",
            "_ _ ● _\n",
            "Action: (1, 0)\n",
            "\n",
            "Player making move ○\n",
            "_ ○ ○ _\n",
            "● _ _ _\n",
            "_ _ _ _\n",
            "_ _ ● _\n",
            "Action: (0, 3)\n",
            "\n",
            "Player making move ●\n",
            "_ ○ ○ ○\n",
            "● _ _ _\n",
            "_ _ _ _\n",
            "_ _ ● _\n",
            "Action: (2, 0)\n",
            "\n",
            "Player making move ○\n",
            "_ ○ ○ ○\n",
            "● _ _ _\n",
            "● _ _ _\n",
            "_ _ ● _\n",
            "Action: (1, 2)\n",
            "\n",
            "Player making move ●\n",
            "_ ○ ○ ○\n",
            "● _ ○ _\n",
            "● _ _ _\n",
            "_ _ ● _\n",
            "Action: (2, 1)\n",
            "\n",
            "Player making move ○\n",
            "_ ○ ○ ○\n",
            "● _ ○ _\n",
            "● ● _ _\n",
            "_ _ ● _\n",
            "Action: (1, 3)\n",
            "\n",
            "Player making move ●\n",
            "_ ○ ○ ○\n",
            "● _ ○ ○\n",
            "● ● _ _\n",
            "_ _ ● _\n",
            "Action: (3, 0)\n",
            "\n",
            "Player making move ○\n",
            "_ ○ ○ ○\n",
            "● _ ○ ○\n",
            "● ● _ _\n",
            "● _ ● _\n",
            "Action: (2, 3)\n",
            "\n",
            "Player making move ●\n",
            "_ ○ ○ ○\n",
            "● _ ○ ○\n",
            "● ● _ ○\n",
            "● _ ● _\n",
            "Action: (3, 1)\n",
            "\n",
            "Player making move ○\n",
            "_ ○ ○ ○\n",
            "● _ ○ ○\n",
            "● ● _ ○\n",
            "● ● ● _\n",
            "Reached terminal state? True\n",
            "Utility for the 1st player -1\n",
            "Utility for the 2nd player 1\n",
            "Winner: 2nd player\n"
          ]
        }
      ]
    },
    {
      "cell_type": "code",
      "metadata": {
        "id": "aH4gBVjKU2Xw",
        "colab": {
          "base_uri": "https://localhost:8080/"
        },
        "outputId": "d201454a-a388-4809-a678-618ed22811e0"
      },
      "source": [
        "judge(CatsAndDogsWithHeuristic(4), HeuristicAlphaBeta(5), HeuristicAlphaBeta(4))"
      ],
      "execution_count": 28,
      "outputs": [
        {
          "output_type": "stream",
          "name": "stdout",
          "text": [
            "Player making move ○\n",
            "_ _ _ _\n",
            "_ _ _ _\n",
            "_ _ _ _\n",
            "_ _ _ _\n",
            "Action: (0, 1)\n",
            "\n",
            "Player making move ●\n",
            "_ ○ _ _\n",
            "_ _ _ _\n",
            "_ _ _ _\n",
            "_ _ _ _\n",
            "Action: (2, 1)\n",
            "\n",
            "Player making move ○\n",
            "_ ○ _ _\n",
            "_ _ _ _\n",
            "_ ● _ _\n",
            "_ _ _ _\n",
            "Action: (1, 3)\n",
            "\n",
            "Player making move ●\n",
            "_ ○ _ _\n",
            "_ _ _ ○\n",
            "_ ● _ _\n",
            "_ _ _ _\n",
            "Action: (3, 1)\n",
            "\n",
            "Player making move ○\n",
            "_ ○ _ _\n",
            "_ _ _ ○\n",
            "_ ● _ _\n",
            "_ ● _ _\n",
            "Action: (1, 0)\n",
            "\n",
            "Player making move ●\n",
            "_ ○ _ _\n",
            "○ _ _ ○\n",
            "_ ● _ _\n",
            "_ ● _ _\n",
            "Action: (2, 2)\n",
            "\n",
            "Player making move ○\n",
            "_ ○ _ _\n",
            "○ _ _ ○\n",
            "_ ● ● _\n",
            "_ ● _ _\n",
            "Action: (3, 3)\n",
            "\n",
            "Player making move ●\n",
            "_ ○ _ _\n",
            "○ _ _ ○\n",
            "_ ● ● _\n",
            "_ ● _ ○\n",
            "Action: (3, 0)\n",
            "\n",
            "Player making move ○\n",
            "_ ○ _ _\n",
            "○ _ _ ○\n",
            "_ ● ● _\n",
            "● ● _ ○\n",
            "Action: (0, 0)\n",
            "\n",
            "Player making move ●\n",
            "○ ○ _ _\n",
            "○ _ _ ○\n",
            "_ ● ● _\n",
            "● ● _ ○\n",
            "Reached terminal state? True\n",
            "Utility for the 1st player 1\n",
            "Utility for the 2nd player -1\n",
            "Winner: 1st player\n"
          ]
        }
      ]
    }
  ]
}